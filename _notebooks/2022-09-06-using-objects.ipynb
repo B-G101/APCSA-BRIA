{
 "cells": [
  {
   "cell_type": "markdown",
   "metadata": {},
   "source": [
    "# Using Objects\n",
    "> Unit 2 // AP CSA\n",
    "\n",
    "- toc: true \n",
    "- badges: true\n",
    "- comments: true\n",
    "- categories: [jupyter,unit2]\n",
    "- image: images/chart-preview.png"
   ]
  },
  {
   "cell_type": "markdown",
   "metadata": {},
   "source": [
    "Objects-Instances of classes\n",
    "- Class - a blueprint for creating objects with same behavior and defined attributes\n",
    "- Object - specific entry made from a class, individual instances of classes with variables used to name them, can be manipulated in the program\n",
    "- Has behaviors and attributes defined by the class used to create it\n",
    "- They do not have an impact on one another (different objects)\n",
    "- Can have 2 variables for one object\n",
    "- Changing one will change both variables\n",
    "\n",
    "- Constructors are used to initialize the attributes for an object"
   ]
  },
  {
   "cell_type": "code",
   "execution_count": 11,
   "metadata": {
    "vscode": {
     "languageId": "java"
    }
   },
   "outputs": [
    {
     "name": "stdout",
     "output_type": "stream",
     "text": [
      "Enter a point of data\n",
      "Enter more data? (y/n)\n",
      "Enter a point of data\n",
      "Enter more data? (y/n)\n",
      "Enter a point of data\n",
      "Enter more data? (y/n)\n",
      "Enter a point of data\n",
      "Enter more data? (y/n)\n",
      "Enter a point of data\n",
      "Enter more data? (y/n)\n",
      "Minimum: 1\n",
      "Q1: 3\n",
      "Median: 5\n",
      "Q3: 7\n",
      "Maximum: 9\n"
     ]
    }
   ],
   "source": [
    "\n",
    "\n",
    "// I made an algorithm to calculate the 5 number summary that we use in AP Statistics. It uses the round() Math method (even though that technically makes it less accurate). \n",
    "\n",
    "import java.util.Scanner;  // Import the Scanner class\n",
    "import java.util.ArrayList; // Import the ArrayList class\n",
    "import java.util.Collections; // // Sort myData\n",
    "\n",
    "\n",
    "class Main { // Defining the class \n",
    "  public static void main(String[] args) {\n",
    "    ArrayList<Integer> myData = new ArrayList<Integer>(); // Integer is a wrapper class\n",
    "// Create an ArrayList object\n",
    "    Scanner firstData = new Scanner(System.in);  // Create a Scanner object\n",
    "    System.out.println(\"Enter a point of data\");\n",
    "    myData.add (firstData.nextInt());  // Read user input\n",
    "   \n",
    "    String response = \"y\";\n",
    "    while (response.equals(\"y\")) { // Use of the equals() String method\n",
    "    \n",
    "    Scanner userResponse = new Scanner(System.in);  // Create a Scanner object\n",
    "    System.out.println(\"Enter more data? (y/n)\");\n",
    "\n",
    "    response = userResponse.nextLine();\n",
    "    if (response.equals(\"y\")){\n",
    "      Scanner Data = new Scanner(System.in);  // Create a Scanner object\n",
    "    System.out.println(\"Enter a point of data\");\n",
    "    myData.add (Data.nextInt());  // Read user input\n",
    "    \n",
    "  }\n",
    "    }\n",
    "\n",
    "    Collections.sort(myData);\n",
    "    int last = myData.size();\n",
    "    System.out.println(\"Minimum: \" + myData.get(0));\n",
    "    System.out.println(\"Q1: \" + myData.get(Math.round((last-1)/4))); // Use the the round() Math method\n",
    "    System.out.println(\"Median: \" + myData.get(Math.round((last-1)/2))); // Use the the round() Math method\n",
    "    System.out.println(\"Q3: \" + myData.get(Math.round((last-1) *3/4))); // Use the the round() Math method\n",
    "    System.out.println(\"Maximum: \" + myData.get(last-1));\n",
    "    \n",
    "    \n",
    "  }\n",
    "}\n",
    "\n",
    "Main.main(null);"
   ]
  }
 ],
 "metadata": {
  "kernelspec": {
   "display_name": "Java",
   "language": "java",
   "name": "java"
  },
  "language_info": {
   "codemirror_mode": "java",
   "file_extension": ".jshell",
   "mimetype": "text/x-java-source",
   "name": "Java",
   "pygments_lexer": "java",
   "version": "11.0.16+8-post-Ubuntu-0ubuntu120.04"
  },
  "orig_nbformat": 4
 },
 "nbformat": 4,
 "nbformat_minor": 2
}
