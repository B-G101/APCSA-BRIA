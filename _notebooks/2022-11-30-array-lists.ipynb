{
 "cells": [
  {
   "cell_type": "markdown",
   "metadata": {},
   "source": [
    "# Array Lists Class Assignment\n",
    "> Test Prep // AP CSA\n",
    "\n",
    "- toc: true \n",
    "- badges: true\n",
    "- comments: true\n",
    "- categories: [jupyter,testprep]\n",
    "- image: images/chart-preview.png"
   ]
  },
  {
   "cell_type": "code",
   "execution_count": null,
   "metadata": {},
   "outputs": [],
   "source": []
  },
  {
   "cell_type": "code",
   "execution_count": 15,
   "metadata": {},
   "outputs": [
    {
     "name": "stdout",
     "output_type": "stream",
     "text": [
      "green box \n",
      "blue water \n"
     ]
    }
   ],
   "source": [
    "import java.util.ArrayList;\n",
    "\n",
    "public class main{\n",
    "    public static void main(String[] args) {\n",
    "        ArrayList<String> color = new ArrayList<String>(); \n",
    "        color.add(\"red apple\");\n",
    "        color.add(\"green box\");\n",
    "        color.add(\"blue water\");\n",
    "        color.add(\"red panda\");\n",
    "        for (int i = 0; i < color.size(); i++) {\n",
    "            if (color.get(i).contains(\"red\")) {\n",
    "                color.remove(i);\n",
    "            }\n",
    "        }\n",
    "\n",
    "        for (int i = 0; i < color.size(); i++){\n",
    "            System.out.println(color.get(i) + \" \");\n",
    "        }\n",
    "    }\n",
    "\n",
    "}\n",
    "/*/ \n",
    "using \n",
    "\n",
    "if(color.get(i).contains(\"red\"))\n",
    "\n",
    "iterate through the arraylist and remove all elements that contain the word red in them\n",
    "/*/\n",
    "\n",
    "main.main(null);"
   ]
  },
  {
   "cell_type": "code",
   "execution_count": 1,
   "metadata": {},
   "outputs": [
    {
     "name": "stdout",
     "output_type": "stream",
     "text": [
      "9"
     ]
    }
   ],
   "source": [
    "// Hack #3\n",
    "// find the sum of the elements in the arraylist\n",
    "\n",
    "ArrayList<Integer> num = new ArrayList<Integer>(); \n",
    "\n",
    "num.add(5);\n",
    "num.add(1);\n",
    "num.add(3);\n",
    "int count = 0;\n",
    "\n",
    "for ( int n : num) {\n",
    "    count = count + n;\n",
    "}\n",
    "\n",
    "System.out.print(count);\n"
   ]
  }
 ],
 "metadata": {
  "kernelspec": {
   "display_name": "Java",
   "language": "java",
   "name": "java"
  },
  "language_info": {
   "codemirror_mode": "java",
   "file_extension": ".jshell",
   "mimetype": "text/x-java-source",
   "name": "java",
   "pygments_lexer": "java",
   "version": "11.0.16+8-post-Ubuntu-0ubuntu120.04"
  },
  "orig_nbformat": 4
 },
 "nbformat": 4,
 "nbformat_minor": 2
}
