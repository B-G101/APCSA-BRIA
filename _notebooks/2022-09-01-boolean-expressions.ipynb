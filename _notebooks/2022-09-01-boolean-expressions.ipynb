{
 "cells": [
  {
   "cell_type": "markdown",
   "metadata": {},
   "source": [
    "# Boolean Expressions and If Statements\n",
    "> Unit 2 // AP CSA\n",
    "\n",
    "- toc: true \n",
    "- badges: true\n",
    "- comments: true\n",
    "- categories: [jupyter,unit2]\n",
    "- image: images/chart-preview.png"
   ]
  },
  {
   "cell_type": "markdown",
   "metadata": {},
   "source": [
    "### If Statements\n",
    "If a code statement is true then the code within the **if** statement block will execute. The example below uses user input and an if statement to guess what color the question is in. "
   ]
  },
  {
   "cell_type": "code",
   "execution_count": 8,
   "metadata": {
    "vscode": {
     "languageId": "java"
    }
   },
   "outputs": [
    {
     "name": "stdout",
     "output_type": "stream",
     "text": [
      "\u001b[34mWhat color is this text?\n",
      "Your guess is: blue which is correct!"
     ]
    }
   ],
   "source": [
    "#collapse-output\n",
    "import java.util.Scanner;\n",
    "import java.io.*;\n",
    "\n",
    "public class Main {\n",
    "    public static void main(String[] args){\n",
    "        Scanner userQuestion = new Scanner(System.in); // Gets user input using Scanner\n",
    "        System.out.println(\"\\u001B[34m\" + \"What color is this text?\");\n",
    "\n",
    "        String colorGuess = userQuestion.nextLine(); // Sets user input equal to new variable colorGuess\n",
    "        System.out.print(\"Your guess is: \" + colorGuess);\n",
    "        \n",
    "        if (colorGuess.equalsIgnoreCase(\"blue\")) { // Uses String method equalsIgnoreCase to check if the two strings are identical. The result is a boolean expression that if true will execute the if statement.\n",
    "            System.out.print(\" which is correct!\"); // When the answer is correct, this statement is printed\n",
    "        }\n",
    "}\n",
    "}\n",
    "Main.main(null);"
   ]
  },
  {
   "cell_type": "markdown",
   "metadata": {},
   "source": [
    "### If-Else Statements\n",
    "\n",
    "If the code statement in the **if** is true then the code within the the **if** statement will execute. If the code statement in the **if** is false then the code within the **else** statement will execute. The example below uses if and else statements to check if the response to a question is correct or not. "
   ]
  },
  {
   "cell_type": "code",
   "execution_count": 9,
   "metadata": {
    "vscode": {
     "languageId": "java"
    }
   },
   "outputs": [
    {
     "name": "stdout",
     "output_type": "stream",
     "text": [
      "\u001b[34mWhat color is this text?\n",
      "Your guess is: yellow which is incorrect!"
     ]
    }
   ],
   "source": [
    "#collapse-output\n",
    "import java.util.Scanner;\n",
    "import java.io.*;\n",
    "\n",
    "public class Main {\n",
    "    public static void main(String[] args){\n",
    "        Scanner userQuestion = new Scanner(System.in); // Gets user input using Scanner\n",
    "        System.out.println(\"\\u001B[34m\" + \"What color is this text?\");\n",
    "\n",
    "        String colorGuess = userQuestion.nextLine(); // Sets user input equal to new variable colorGuess\n",
    "        System.out.print(\"Your guess is: \" + colorGuess);\n",
    "        \n",
    "        if (colorGuess.equalsIgnoreCase(\"blue\")) { // Uses String method equalsIgnoreCase to check if the two strings are identical. The result is a boolean expression that if true will execute the if statement.\n",
    "            System.out.print(\" which is correct!\"); // When the answer is correct, this statement is printed\n",
    "        }\n",
    "\n",
    "        else {\n",
    "            System.out.print(\" which is incorrect!\"); // If the statement is incorrect, the else statement will execute and tell the user that their answer is incorrect. \n",
    "        }\n",
    "}\n",
    "}\n",
    "Main.main(null);"
   ]
  },
  {
   "cell_type": "markdown",
   "metadata": {},
   "source": [
    "### If-Else-If-Else Statements\n",
    "\n",
    "This option of conditionals is helpful if there are multiple options that are correct. If the code statement in the **if** is true, then the code segment under the if statement will execute. If the code statement in the **if** is false, then the code segment in the **else if** statement will execute if it is true. If the code segment in the **else if** statement is false, then the code segment in the **else** statement will execute. "
   ]
  },
  {
   "cell_type": "code",
   "execution_count": 13,
   "metadata": {
    "vscode": {
     "languageId": "java"
    }
   },
   "outputs": [
    {
     "name": "stdout",
     "output_type": "stream",
     "text": [
      "\u001b[34mWhat color is this text?\n",
      "Your guess is: cyan which is correct!"
     ]
    }
   ],
   "source": [
    "#collapse-output\n",
    "import java.util.Scanner;\n",
    "import java.io.*;\n",
    "\n",
    "public class Main {\n",
    "    public static void main(String[] args){\n",
    "        Scanner userQuestion = new Scanner(System.in); // Gets user input using Scanner\n",
    "        System.out.println(\"\\u001B[34m\" + \"What color is this text?\");\n",
    "\n",
    "        String colorGuess = userQuestion.nextLine(); // Sets user input equal to new variable colorGuess\n",
    "        System.out.print(\"Your guess is: \" + colorGuess);\n",
    "        \n",
    "        if (colorGuess.equalsIgnoreCase(\"blue\")) { // Uses String method equalsIgnoreCase to check if the two strings are identical. The result is a boolean expression that if true will execute the if statement.\n",
    "            System.out.print(\" which is correct!\"); // When the answer is correct, this statement is printed\n",
    "        }\n",
    "\n",
    "        else if (colorGuess.equalsIgnoreCase(\"cyan\")) {\n",
    "            System.out.print(\" which is correct!\"); // This is another possible correct answer, so this statement will be printed if the user does not guess \"blue\"\n",
    "        }\n",
    "\n",
    "        else {\n",
    "            System.out.print(\" which is incorrect!\"); // If the statement is incorrect, the else statement will execute and tell the user that their answer is incorrect. \n",
    "        }\n",
    "}\n",
    "}\n",
    "Main.main(null);"
   ]
  },
  {
   "cell_type": "markdown",
   "metadata": {},
   "source": [
    "### If, Else, ElseIf Statements versus Switch Cases\n",
    "\n",
    "Below is the same code segment, but expanded with more color options. The first code block uses if, else, and else if statements. The bottom code block uses switch cases."
   ]
  },
  {
   "cell_type": "code",
   "execution_count": 20,
   "metadata": {
    "vscode": {
     "languageId": "java"
    }
   },
   "outputs": [
    {
     "name": "stdout",
     "output_type": "stream",
     "text": [
      "\u001b[34mWhat color is this text?\n",
      "Your guess is: purple which is incorrect!"
     ]
    }
   ],
   "source": [
    "#collapse-output\n",
    "import java.util.Scanner;\n",
    "import java.io.*;\n",
    "\n",
    "public class Main {\n",
    "    public static void main(String[] args){\n",
    "        Scanner userQuestion = new Scanner(System.in); // Gets user input using Scanner\n",
    "        System.out.println(\"\\u001B[34m\" + \"What color is this text?\");\n",
    "\n",
    "        String colorGuess = userQuestion.nextLine(); // Sets user input equal to new variable colorGuess\n",
    "        System.out.print(\"Your guess is: \" + colorGuess);\n",
    "        \n",
    "        if (colorGuess.equalsIgnoreCase(\"blue\")) { // Uses String method equalsIgnoreCase to check if the two strings are identical. The result is a boolean expression that if true will execute the if statement.\n",
    "            System.out.print(\" which is correct!\"); // When the answer is correct, this statement is printed\n",
    "        }\n",
    "\n",
    "        else if (colorGuess.equalsIgnoreCase(\"cyan\")) {\n",
    "            System.out.print(\" which is correct!\"); // This is another possible correct answer, so this statement will be printed if the user does not guess \"blue\"\n",
    "        }\n",
    "\n",
    "        else if (colorGuess.equalsIgnoreCase(\"red\")) {\n",
    "            System.out.print(\" which is incorrect!\"); // This is another possible incorrect answer, so this statement will be printed if the user does not guess \"blue\"\n",
    "        }\n",
    "\n",
    "        else if (colorGuess.equalsIgnoreCase(\"green\")) {\n",
    "            System.out.print(\" which is incorrect!\"); // This is another possible incorrect answer, so this statement will be printed if the user does not guess \"blue\"\n",
    "        }\n",
    "\n",
    "        else if (colorGuess.equalsIgnoreCase(\"yellow\")) {\n",
    "            System.out.print(\" which is incorrect!\"); // This is another possible incorrect answer, so this statement will be printed if the user does not guess \"blue\"\n",
    "        }\n",
    "\n",
    "        else if (colorGuess.equalsIgnoreCase(\"torquise\")) {\n",
    "            System.out.print(\" which is correct!\"); // This is another possible correct answer, so this statement will be printed if the user does not guess \"blue\"\n",
    "        }\n",
    "\n",
    "        else if (colorGuess.equalsIgnoreCase(\"orange\")) {\n",
    "            System.out.print(\" which is incorrect!\"); // This is another possible incorrect answer, so this statement will be printed if the user does not guess \"blue\"\n",
    "        }\n",
    "\n",
    "        else {\n",
    "            System.out.print(\" which is incorrect!\"); // If the statement is incorrect, the else statement will execute and tell the user that their answer is incorrect. \n",
    "        }\n",
    "}\n",
    "}\n",
    "Main.main(null);"
   ]
  },
  {
   "cell_type": "code",
   "execution_count": 19,
   "metadata": {
    "vscode": {
     "languageId": "java"
    }
   },
   "outputs": [
    {
     "name": "stdout",
     "output_type": "stream",
     "text": [
      "\u001b[34mWhat color is this text?\n",
      "Your guess is: green which is incorrect!"
     ]
    }
   ],
   "source": [
    "#collapse-output\n",
    "public class Main {\n",
    "    public static void main(String[] args){\n",
    "        Scanner userQuestion = new Scanner(System.in); // Gets user input using Scanner\n",
    "        System.out.println(\"\\u001B[34m\" + \"What color is this text?\");\n",
    "\n",
    "        String colorGuess = userQuestion.nextLine(); // Sets user input equal to new variable colorGuess\n",
    "        System.out.print(\"Your guess is: \" + colorGuess);\n",
    "        String response;\n",
    "\n",
    "        switch (colorGuess) { // Depending on what the user guesses, the case that matches the color guessed will execute.\n",
    "            case \"blue\":\n",
    "                response = \" which is correct!\";\n",
    "                break;\n",
    "            case \"cyan\":\n",
    "                response = \" which is correct!\";\n",
    "                break;\n",
    "            case \"purple\":\n",
    "                response = \" which is incorrect!\";\n",
    "                break;\n",
    "            case \"turquise\":\n",
    "                response = \" which is correct!\";\n",
    "                break;\n",
    "            case \"yellow\":\n",
    "                response = \" which is incorrect!\";\n",
    "                break;\n",
    "            case \"red\":\n",
    "                response = \" which is incorrect!\";\n",
    "                break;\n",
    "            case \"green\":\n",
    "                response = \" which is incorrect!\";\n",
    "                break;\n",
    "            case \"orange\":\n",
    "                response = \" which is incorrect!\";\n",
    "                break;               \n",
    "            default:\n",
    "                response = \" which is not a valid response!\";\n",
    "                break;  \n",
    "        } \n",
    "        System.out.print(response);\n",
    "    }\n",
    "}\n",
    "\n",
    "Main.main(null)"
   ]
  },
  {
   "cell_type": "markdown",
   "metadata": {},
   "source": [
    "### De Morgan's Law\n",
    "\n",
    "De Morgan's law shows how numbers are related through their opposites. According to De Morgan's Law logic, \"the complement of the union of two sets is equal to the intersection of their separate complements.\" In code the definition is \"if two (or more) input variables are AND’ed and negated, it should be equivalent to the OR of the complements of the individual input variables\""
   ]
  },
  {
   "cell_type": "code",
   "execution_count": 33,
   "metadata": {
    "vscode": {
     "languageId": "java"
    }
   },
   "outputs": [
    {
     "name": "stdout",
     "output_type": "stream",
     "text": [
      "a = false\n",
      "b = false\n",
      "Test 1: True\n"
     ]
    }
   ],
   "source": [
    "public class Main {\n",
    "    public static void main(String[] args){\n",
    "        boolean a = false;\n",
    "        boolean b = false;\n",
    "\n",
    "        if (!(a&&b)){\n",
    "            System.out.println(\"a = \" + a);\n",
    "            System.out.println(\"b = \" + b);\n",
    "            System.out.println(\"Test 1: True\");\n",
    "        }\n",
    "\n",
    "    }\n",
    "}\n",
    "\n",
    "Main.main(null)"
   ]
  },
  {
   "cell_type": "code",
   "execution_count": 34,
   "metadata": {
    "vscode": {
     "languageId": "java"
    }
   },
   "outputs": [
    {
     "name": "stdout",
     "output_type": "stream",
     "text": [
      "a = false\n",
      "b = false\n",
      "Test 2: True\n"
     ]
    }
   ],
   "source": [
    "public class Main {\n",
    "    public static void main(String[] args){\n",
    "        boolean a = false;\n",
    "        boolean b = false;\n",
    "\n",
    "        if (!a || !b){\n",
    "            System.out.println(\"a = \" + a);\n",
    "            System.out.println(\"b = \" + b);\n",
    "            System.out.println(\"Test 2: True\");\n",
    "        }\n",
    "    }\n",
    "}\n",
    "\n",
    "Main.main(null)"
   ]
  }
 ],
 "metadata": {
  "kernelspec": {
   "display_name": "Java",
   "language": "java",
   "name": "java"
  },
  "language_info": {
   "codemirror_mode": "java",
   "file_extension": ".jshell",
   "mimetype": "text/x-java-source",
   "name": "Java",
   "pygments_lexer": "java",
   "version": "11.0.16+8-post-Ubuntu-0ubuntu120.04"
  },
  "orig_nbformat": 4
 },
 "nbformat": 4,
 "nbformat_minor": 2
}
