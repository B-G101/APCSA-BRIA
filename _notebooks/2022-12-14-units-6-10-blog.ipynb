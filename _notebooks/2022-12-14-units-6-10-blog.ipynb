{
 "cells": [
  {
   "cell_type": "markdown",
   "metadata": {},
   "source": [
    "# Unit 6-10 Blog\n",
    "> Test Prep // AP CSA\n",
    "\n",
    "- toc: true \n",
    "- badges: true\n",
    "- comments: true\n",
    "- categories: [jupyter,testprep]\n",
    "- image: images/chart-preview.png"
   ]
  },
  {
   "cell_type": "markdown",
   "metadata": {},
   "source": [
    "## Homework TOC\n",
    "\n",
    "total score: 4.65/5\n",
    "\n",
    "| Week # | CB Topics | Score\n",
    "|---|---|---|\n",
    "| Week 10 | [06 Arrays](https://github.com/B-G101/APCSA-BRIA/blob/master/_notebooks/2022-10-25.arrays-lesson.ipynb) | Unit 6: 0.75/1 |\n",
    "| Week 14 | [07 ArrayList](https://ftc13184-sk.github.io/APCSA-Project/jupyter/2022/12/07/units6-10-hw.html#Unit-7:-ArrayLists) | Unit 7: 0.95/1 |\n",
    "| Week 15 | [08 2D Array](https://ftc13184-sk.github.io/APCSA-Project/jupyter/2022/12/07/units6-10-hw.html#Unit-8:-2-D-Arrays) | Unit 8: 0.95/1 |\n",
    "| Week 16 | [09 Inheritance](https://ftc13184-sk.github.io/APCSA-Project/jupyter/2022/12/07/units6-10-hw.html#Unit-9) <br> [10 Recursion (I taught and did hacks)](https://ftc13184-sk.github.io/APCSA-Project/jupyter/2022/12/07/units6-10-hw.html#Unit-10)<br> [Link to lesson](https://jz21324.github.io/Vcode/jupyter/2022/12/11/recusion-prezi-10-1.html)| Unit 9: 1/1 <br> Unit 10: 1/1 |\n"
   ]
  },
  {
   "cell_type": "markdown",
   "metadata": {},
   "source": [
    "***What is an array***\n",
    "- data structure that collects data\n",
    "- not an array list\n",
    "- data can be primitive or referenced\n",
    "\n",
    "<br>***Parts of array***\n",
    "\n",
    "- element - one values\n",
    "- index the postition of that value\n",
    "\n",
    "<br>***Arary Syntax***\n",
    "\n",
    "- declare an array variable \n",
    "- int[] array = {1,2,3,4,5};\n",
    "\n",
    "<br>***Bound Errors***\n",
    "\n",
    "- accessing an array element that does not exist\n",
    "\n",
    "<br>***Uninitalized and Unfilled Arrays***\n",
    "\n",
    "- assign an array variable but not the whole array\n",
    "- array variables are similar to object variables\n",
    "\n",
    "<br>***Traverse an Array***\n",
    "\n",
    "- accessing the valiables inside of the array\n",
    "- using iteration or loops or recursion\n",
    "- basic for loop: for(int loop = 0; i < values.length; i++)\n",
    "- enhanced for loop: for(int element: values)\n",
    "\n",
    "<br>***Developing algorithmns using arrays***\n",
    "\n",
    "- finding minormax, finding sums, checking for duplicates, sorting"
   ]
  },
  {
   "cell_type": "markdown",
   "metadata": {},
   "source": [
    "Unit 7 ArrayList\n",
    "- Can change size\n",
    "- A class with many methods\n",
    "- Not designed to store primitives, they store object references\n",
    "- Slightly slower than arrays<br>\n",
    "7.1 Introduction to ArrayList\n",
    "- Primitive Data Types:\n",
    "-Boolean\n",
    "- Char\n",
    "- Double\n",
    "- Int\n",
    "- Wrapper Class Data Types\n",
    "- Boolean\n",
    "- Character\n",
    "- Double\n",
    "- Integer"
   ]
  },
  {
   "cell_type": "markdown",
   "metadata": {},
   "source": [
    "2D Array Vocab\n",
    "\n",
    "Arrays: a data structure used to implement a collection (list) of primitive or object reference data\n",
    "\n",
    "Element: a single value in the array\n",
    "\n",
    "Index: the position of the element in the array (it starts from 0)\n",
    "\n",
    "Array length: the number of elements in the array (public and final)"
   ]
  },
  {
   "cell_type": "markdown",
   "metadata": {},
   "source": [
    "*Protected:* an access modifier so that the attribute isn't affected by access modifier that isn't affected by outside modifiers\n",
    "\n",
    "If the attributes of the subclass are exactly the same as the attributes of the superclass, then we can just use the constructor of the superclass.\n",
    "\n",
    "An additional attribute that's added to the subclass class does not have to be added to the superclass if it does not apply to it\n",
    "\n",
    "Overriding methods allows the subclass to provide specific implementation of a method\n",
    "\n",
    "Has to be already provided by the super-class\n",
    "\n",
    "If a method in a subclass has the same name, same parameters or signature, and same return type as a method in its super-class, then the method in the subclass will override the method in the super-class.\n",
    "\n",
    "*Uses of the super keyword*\n",
    "\n",
    "Use constructors in the superclass\n",
    "\n",
    "Use the methods in the superclass in the child class\n",
    "\n",
    "You can use a inheritance hierarchy to organize references\n",
    "\n",
    "*Polymorphism:* You can do one action many ways\n",
    "\n",
    "*Runtime Polymorphism:* method overriding\n",
    "\n",
    "*Compile Time Polymorphism:* also using method overrloading\n",
    "\n",
    "Object class is the superclass of all other classes in Java\n",
    "\n",
    "*toString Method:* Prints out the attributes of an object and converts a string object to string\n",
    "\n",
    "*equals Method:* Compares two strings and returns a boolean value of true if equal"
   ]
  }
 ],
 "metadata": {
  "language_info": {
   "name": "python"
  },
  "orig_nbformat": 4
 },
 "nbformat": 4,
 "nbformat_minor": 2
}
