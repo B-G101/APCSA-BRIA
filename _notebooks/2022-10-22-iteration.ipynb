{
 "cells": [
  {
   "cell_type": "markdown",
   "metadata": {},
   "source": [
    "# Iteration Class Notes"
   ]
  },
  {
   "cell_type": "code",
   "execution_count": 12,
   "metadata": {},
   "outputs": [],
   "source": [
    "import java.util.Scanner;\n",
    "\n",
    "public class Checker \n",
    "{\n",
    "    public static void main(String[] args) \n",
    "    {\n",
    "        int number;  \n",
    "\t\n",
    "        // Create a Scanner object for keyboard input.  \n",
    "        Scanner keyboard = new Scanner(System.in);  \n",
    "             \n",
    "        // Get a number from the user.  \n",
    "        System.out.print(\"Enter a number in the range of 1 through 100: \");  \n",
    "        number = keyboard.nextInt();  \n",
    "\n",
    "        while (number<1 || number >100)\n",
    "        {  \n",
    "           System.out.print(\"Invalid input. Enter a number in the range \" +  \n",
    "                            \"of 1 through 100: \");  \n",
    "           number = keyboard.nextInt();  \n",
    "        } \n",
    "    }\n",
    "}"
   ]
  },
  {
   "cell_type": "code",
   "execution_count": 13,
   "metadata": {},
   "outputs": [],
   "source": [
    "public class LoopConversion \n",
    "{\n",
    "    public static void main(String[] args) \n",
    "    {\n",
    "\n",
    "        //convert to for loop\n",
    "        for  (int count=0; count < 5; count++)\n",
    "        {\n",
    "            System.out.println(\"count is \" + count);\n",
    "        }\n",
    "    }\n",
    "}"
   ]
  },
  {
   "cell_type": "code",
   "execution_count": 2,
   "metadata": {},
   "outputs": [
    {
     "name": "stdout",
     "output_type": "stream",
     "text": [
      "0\n",
      "1\n",
      "2\n",
      "3\n",
      "4\n"
     ]
    }
   ],
   "source": [
    "for (int i=0; i<5; i++){\n",
    "\n",
    "    System.out.println(i);\n",
    "\n",
    "\n",
    "\n",
    "    int i<5}"
   ]
  },
  {
   "cell_type": "code",
   "execution_count": 10,
   "metadata": {},
   "outputs": [
    {
     "name": "stdout",
     "output_type": "stream",
     "text": [
      "0\n",
      "1\n",
      "2\n",
      "3\n",
      "4\n"
     ]
    }
   ],
   "source": [
    "int i = 0;\n",
    "\n",
    "while (i < 5){\n",
    "    System.out.println(i);\n",
    "    i = i+1;\n",
    "}\n"
   ]
  },
  {
   "cell_type": "markdown",
   "metadata": {},
   "source": [
    "# Random Number Guesser"
   ]
  },
  {
   "cell_type": "code",
   "execution_count": 28,
   "metadata": {},
   "outputs": [
    {
     "name": "stdout",
     "output_type": "stream",
     "text": [
      "10.0\n",
      "7.135002924452982\n",
      "too high, try again\n",
      "8.0\n",
      "too high, try again\n"
     ]
    },
    {
     "ename": "EvalException",
     "evalue": "For input string: \"\"",
     "output_type": "error",
     "traceback": [
      "\u001b[1m\u001b[31m---------------------------------------------------------------------------\u001b[0m",
      "\u001b[1m\u001b[31mjava.lang.NumberFormatException: For input string: \"\"\u001b[0m",
      "\u001b[1m\u001b[31m\tat java.base/java.lang.NumberFormatException.forInputString(NumberFormatException.java:65)\u001b[0m",
      "\u001b[1m\u001b[31m\tat java.base/java.lang.Integer.parseInt(Integer.java:662)\u001b[0m",
      "\u001b[1m\u001b[31m\tat java.base/java.lang.Integer.parseInt(Integer.java:770)\u001b[0m",
      "\u001b[1m\u001b[31m\tat Number.main(#30:1)\u001b[0m",
      "\u001b[1m\u001b[31m\tat .(#58:1)\u001b[0m"
     ]
    }
   ],
   "source": [
    "import java.util.Scanner;\n",
    "import java.lang.Math;\n",
    " \n",
    "Scanner number = new Scanner(System.in); \n",
    "float number_float = Integer.parseInt(number.nextLine());  // read user input\n",
    "System.out.println(number_float);\n",
    "\n",
    "double random = Math.random() * 10;\n",
    "//int random_int = float.parseInt(random.nextLine());\n",
    "System.out.println(random);\n",
    "\n",
    "public class Number{\n",
    "    public static void main(String[] args){\n",
    "\n",
    "        while (number_float != random){\n",
    "\n",
    "            if (number_float < random){\n",
    "                System.out.println(\"too low, try again\");\n",
    "                Scanner number = new Scanner(System.in); \n",
    "                float number_float = Integer.parseInt(number.nextLine());  // read user input\n",
    "                System.out.println(number_float);\n",
    "            }\n",
    "\n",
    "            if (number_float > random){\n",
    "                System.out.println(\"too high, try again\");\n",
    "                Scanner number = new Scanner(System.in); \n",
    "                float number_float = Integer.parseInt(number.nextLine());  // read user input\n",
    "                System.out.println(number_float);\n",
    "            }\n",
    "            \n",
    "           \n",
    "    }\n",
    "\n",
    "    System.out.println(\"congrats, you got it\");\n",
    "    \n",
    "\n",
    "\n",
    "\n",
    "    }\n",
    "\n",
    "}\n",
    "Number.main(null);\n"
   ]
  }
 ],
 "metadata": {
  "kernelspec": {
   "display_name": "Java",
   "language": "java",
   "name": "java"
  },
  "language_info": {
   "codemirror_mode": "java",
   "file_extension": ".jshell",
   "mimetype": "text/x-java-source",
   "name": "java",
   "pygments_lexer": "java",
   "version": "11.0.16+8-post-Ubuntu-0ubuntu120.04"
  },
  "orig_nbformat": 4,
  "vscode": {
   "interpreter": {
    "hash": "916dbcbb3f70747c44a77c7bcd40155683ae19c65e1c03b4aa3499c5328201f1"
   }
  }
 },
 "nbformat": 4,
 "nbformat_minor": 2
}
