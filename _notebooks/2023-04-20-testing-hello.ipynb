{
 "cells": [
  {
   "attachments": {},
   "cell_type": "markdown",
   "metadata": {},
   "source": [
    "# Test Uh\n",
    "> Test Prep // AP CSA\n",
    "\n",
    "- toc: true \n",
    "- badges: true\n",
    "- comments: true\n",
    "- categories: [jupyter,testprep]\n",
    "- image: images/chart-preview.png"
   ]
  },
  {
   "attachments": {},
   "cell_type": "markdown",
   "metadata": {},
   "source": [
    "Class Book (Part 1) Close Book"
   ]
  },
  {
   "cell_type": "code",
   "execution_count": 70,
   "metadata": {
    "vscode": {
     "languageId": "java"
    }
   },
   "outputs": [
    {
     "name": "stdout",
     "output_type": "stream",
     "text": [
      "Books in the Library: \n",
      "Id: 0 | Title: Harry Potter  Time Entered: 22:39:57.374730656\n",
      "Id: 1 | Title: The Great Gatsby  Time Entered: 22:39:57.426246004\n",
      "Id: 2 | Title: To Kill a Mockingbird  Time Entered: 22:39:57.426461489\n",
      "Id: 3 | Title: The Hunger Games  Time Entered: 22:39:57.426592390\n",
      "\n",
      "Total Number of Books: \n",
      "4\n"
     ]
    }
   ],
   "source": [
    "import java.time.LocalTime;\n",
    "import java.time.format.DateTimeFormatter;\n",
    "\n",
    "public class Book {\n",
    "\n",
    "    private static int bookCount; // defining the static integer that has the count of the books\n",
    "    public String bookTitle; // defining the string that stores the title of the books\n",
    "    private static long id; // defining the static variable that has the unique id, static so that it stays in the memory and shared with all the objects\n",
    "    private LocalTime timeEntered;\n",
    "    private static ArrayList<Book> library = new ArrayList<Book>();\n",
    "\n",
    "    public Book(String bookTitle) { // 1 argument constructor that passes in the book title\n",
    "        this.bookTitle = bookTitle; \n",
    "        bookCount++; // add to the book counter each time a Book object is created\n",
    "    }\n",
    "\n",
    "    public static int getCount(){ // public getter for the book count\n",
    "        return bookCount;\n",
    "    }\n",
    "    \n",
    "    public long nextId() { // unique ids using a counter for each book\n",
    "        return id++;\n",
    "    }\n",
    "   \n",
    "    public String toString() { // toString method defined with Id and Title\n",
    "        return \"Id: \" + nextId() + \" | Title: \" + this.bookTitle + \"  Time Entered: \" + getTime(); \n",
    "    }\n",
    "\n",
    "    public LocalTime getTime() {\n",
    "        timeEntered = LocalTime.now();\n",
    "        return timeEntered;\n",
    "    }\n",
    "\n",
    "    public void shelfLife() {\n",
    "        \n",
    "    }\n",
    "\n",
    "    public static void main(String[] args) { // tester method defined \n",
    "        Book book1 = new Book(\"Harry Potter\");\n",
    "        Book book2 = new Book(\"The Great Gatsby\");\n",
    "        Book book3 = new Book(\"To Kill a Mockingbird\");\n",
    "        Book book4 = new Book(\"The Hunger Games\");\n",
    "\n",
    "        Book books[] = {book1, book2, book3, book4};\n",
    "\n",
    "        System.out.println(\"Books in the Library: \"); // array to print each book id and title\n",
    "       \n",
    "        for( Book book : books) {\n",
    "            System.out.println(book);\n",
    "        }\n",
    "\n",
    "        System.out.println();\n",
    "        System.out.println(\"Total Number of Books: \"); // print for counter\n",
    "        System.out.println(getCount());\n",
    "    }\n",
    "}\n",
    "Book.main(null);"
   ]
  },
  {
   "cell_type": "code",
   "execution_count": 71,
   "metadata": {
    "vscode": {
     "languageId": "java"
    }
   },
   "outputs": [
    {
     "name": "stdout",
     "output_type": "stream",
     "text": [
      "Novels in the Library: \n",
      "Id: 4 | Title: The Giver  Author: Lois Lowry  Genre: Fiction  Year: 1993  Time Entered: 22:40:02.963316295\n",
      "Id: 5 | Title: Of Mice and Men  Author: John Steinbeck  Genre: Fiction  Year: 1993  Time Entered: 22:40:02.964125573\n",
      "Id: 6 | Title: Romeo and Juliet  Author: William Shakespeare  Genre: Fiction  Year: 1597  Time Entered: 22:40:02.964400496\n",
      "Id: 7 | Title: The Catcher in the Rye  Author: J. D. Salinger  Genre: Fiction  Year: 1951  Time Entered: 22:40:02.964576679\n",
      "\n",
      "Total Number of Books: \n",
      "8\n",
      "\n",
      "Testing Getters: \n",
      "John Steinbeck\n",
      "1993\n",
      "Fiction\n",
      "22:40:02.965392844\n"
     ]
    }
   ],
   "source": [
    "import java.time.LocalTime;\n",
    "import java.time.format.DateTimeFormatter;\n",
    "\n",
    "public class Novel extends Book {\n",
    "    \n",
    "    private String author;\n",
    "    private int year;\n",
    "    private String genre;\n",
    "    private LocalTime timeEntered;\n",
    "\n",
    "    public Novel(String bookTitle, String author) {\n",
    "        super(bookTitle);\n",
    "        this.author = author;\n",
    "    }\n",
    "    \n",
    "\n",
    "    public String getAuthor() {\n",
    "        return author;\n",
    "    }\n",
    "\n",
    "    public void setAuthor(String newAuthor) {\n",
    "        this.author = newAuthor;\n",
    "    }\n",
    "\n",
    "    public int getYear() {\n",
    "        return year;\n",
    "    }\n",
    "\n",
    "    public void setYear(int newYear) {\n",
    "        this.year = newYear;\n",
    "    }\n",
    "\n",
    "    public String getGenre() {\n",
    "        return genre;\n",
    "    }\n",
    "\n",
    "    public void setGenre(String newGenre) {\n",
    "        this.genre = newGenre;\n",
    "    }\n",
    "\n",
    "    public LocalTime getTime() {\n",
    "        timeEntered = LocalTime.now();\n",
    "        return timeEntered;\n",
    "    }\n",
    "\n",
    "    \n",
    "    public String toString() { // toString method defined with Id and Title\n",
    "        return \"Id: \" + nextId() + \" | Title: \" + this.bookTitle + \"  Author: \" + this.author + \"  Genre: \" + this.genre + \"  Year: \" + this.year + \"  Time Entered: \" + getTime(); \n",
    "    }\n",
    "    \n",
    "    public static void main(String[] args) { // tester method defined \n",
    "        Novel novel1 = new Novel(\"The Giver\", \"Lois Lowry\");\n",
    "        novel1.setYear(1993);\n",
    "        Novel novel2 = new Novel(\"Of Mice and Men\", \"John Steinbeck\");\n",
    "        novel2.setYear(1993);\n",
    "        Novel novel3 = new Novel(\"Romeo and Juliet\", \"William Shakespeare\");\n",
    "        novel3.setYear(1597);\n",
    "        Novel novel4 = new Novel(\"The Catcher in the Rye\", \"J. D. Salinger\");\n",
    "        novel4.setYear(1951);\n",
    "\n",
    "        Novel novels[] = {novel1, novel2, novel3, novel4};\n",
    "\n",
    "        System.out.println(\"Novels in the Library: \"); // array to print each book id and title\n",
    "       \n",
    "        for( Novel novel : novels) {\n",
    "            novel.setGenre(\"Fiction\");\n",
    "            System.out.println(novel);            \n",
    "        }\n",
    "\n",
    "        System.out.println();\n",
    "        System.out.println(\"Total Number of Books: \"); // print for counter\n",
    "        System.out.println(getCount());\n",
    "\n",
    "        System.out.println();\n",
    "        System.out.println(\"Testing Getters: \");\n",
    "        System.out.println(novel2.getAuthor());\n",
    "        System.out.println(novel1.getYear());\n",
    "        System.out.println(novel2.getGenre());\n",
    "        System.out.println(novel2.getTime());\n",
    "    }\n",
    "}\n",
    "Novel.main(null);"
   ]
  },
  {
   "attachments": {},
   "cell_type": "markdown",
   "metadata": {},
   "source": [
    "Open book"
   ]
  },
  {
   "cell_type": "code",
   "execution_count": 74,
   "metadata": {
    "vscode": {
     "languageId": "java"
    }
   },
   "outputs": [
    {
     "name": "stdout",
     "output_type": "stream",
     "text": [
      "Textbooks in the Library: \n",
      "Id: 8 | Title: U.S. History  Publisher: Publisher 1  Level: High School  Year: 2001  Time Entered: 23:01:35.299100784\n",
      "Id: 9 | Title: World History  Publisher: Penguin Publisher  Level: Middle School  Year: 2009  Time Entered: 23:01:35.303569806\n",
      "\n",
      "Total Number of Books: \n",
      "10\n",
      "\n",
      "Testing Getters: \n",
      "High School\n",
      "Penguin Publisher\n"
     ]
    }
   ],
   "source": [
    "public class Textbook extends Book {\n",
    "\n",
    "    private String publisher;\n",
    "    private int year;\n",
    "    private String level;\n",
    "\n",
    "    public Textbook(String bookTitle, String publisher, String level) {\n",
    "        super(bookTitle);\n",
    "        this.publisher = publisher;\n",
    "        this.level = level;\n",
    "    }\n",
    "\n",
    "    public String getPublisher() {\n",
    "        return publisher;\n",
    "    }\n",
    "    \n",
    "    public void setPublisher(String newPublish) {\n",
    "        publisher = newPublish;\n",
    "    }\n",
    "\n",
    "    public int getYear() {\n",
    "        return year;\n",
    "    }\n",
    "    \n",
    "    public void setYear(int newYear) {\n",
    "        this.year = newYear;\n",
    "    }\n",
    "\n",
    "    public String getLevel() {\n",
    "        return level;\n",
    "    }\n",
    "\n",
    "    public void setLevel(String newLevel) {\n",
    "        level = newLevel;\n",
    "    }\n",
    "\n",
    "    public String toString() { // toString method defined with Id and Title\n",
    "        return \"Id: \" + nextId() + \" | Title: \" + this.bookTitle + \"  Publisher: \" + this.publisher + \"  Level: \" + this.level + \"  Year: \" + this.year + \"  Time Entered: \" + getTime(); \n",
    "    }\n",
    "\n",
    "    public static void main(String[] args) { // tester method defined \n",
    "        Textbook text1 = new Textbook(\"U.S. History\", \"Publisher 1\", \"High School\");\n",
    "        text1.setYear(2001);\n",
    "        Textbook text2 = new Textbook(\"World History\", \"Publisher 2\", \"Middle School\");\n",
    "        text2.setYear(2009);\n",
    "        text2.setPublisher(\"Penguin Publisher\");\n",
    "\n",
    "        Textbook textbooks[] = {text1, text2};\n",
    "        \n",
    "        System.out.println(\"Textbooks in the Library: \"); // array to print each book id and title\n",
    "       \n",
    "        for( Textbook textbook : textbooks) {\n",
    "            System.out.println(textbook);            \n",
    "        }\n",
    "\n",
    "        System.out.println();\n",
    "        System.out.println(\"Total Number of Books: \"); // print for counter\n",
    "        System.out.println(getCount());\n",
    "\n",
    "        System.out.println();\n",
    "        System.out.println(\"Testing Getters: \");\n",
    "        System.out.println(text1.getLevel());\n",
    "        System.out.println(text2.getPublisher());\n",
    "    }\n",
    "}\n",
    "Textbook.main(null);"
   ]
  },
  {
   "attachments": {},
   "cell_type": "markdown",
   "metadata": {},
   "source": [
    "Simulation"
   ]
  },
  {
   "cell_type": "code",
   "execution_count": null,
   "metadata": {
    "vscode": {
     "languageId": "java"
    }
   },
   "outputs": [],
   "source": []
  },
  {
   "attachments": {},
   "cell_type": "markdown",
   "metadata": {},
   "source": [
    "#### FRQ 1 2D Array\n",
    "\n",
    "SHOW ALL YOUR WORK. REMEMBER THAT PROGRAM SEGMENTS ARE TO BE WRITTEN IN JAVA.\n",
    "\n",
    "- Assume that the classes listed in the Java Quick Reference have been imported where appropriate.\n",
    "- Unless otherwise noted in the question, assume that parameters in method calls are not null and that methods are called only when their preconditions are satisfied.\n",
    "- In writing solutions for each question, you may use any of the accessible methods that are listed in classes defined in that question. Writing significant amounts of code that can be replaced by a call to one of these methods will not receive full credit.\n",
    "\n",
    " \n",
    "This question involves performing arithmetic operations on two-dimensional (2D) arrays of integers. You will write two static methods, both of which are in a class named MatrixOp (not shown).\n",
    "\n",
    "\n",
    "(a) Write the method diagonalOp, which returns the sum of the products of the corresponding entries on the main diagonals of two given square 2D arrays that have the same dimensions. The main diagonal goes from the top-left corner to the bottom-right corner in a square 2D array.\n",
    "\n",
    "\n",
    "For example, assume that mat1 and mat2 are properly defined 2D arrays containing the values shown below. The main diagonals have been shaded in gray.\n",
    "\n"
   ]
  },
  {
   "cell_type": "code",
   "execution_count": 15,
   "metadata": {
    "vscode": {
     "languageId": "java"
    }
   },
   "outputs": [
    {
     "ename": "CompilationException",
     "evalue": "",
     "output_type": "error",
     "traceback": [
      "\u001b[1m\u001b[30m|   \u001b[1m\u001b[30m    public \u001b[0m\u001b[1m\u001b[30m\u001b[41m\u001b[0m\u001b[1m\u001b[30mexpandMatrix(int matA) {\u001b[0m",
      "\u001b[1m\u001b[31minvalid method declaration; return type required\u001b[0m",
      ""
     ]
    }
   ],
   "source": [
    "public class MatrixOp {\n",
    "    private static int col;\n",
    "    private static int count;\n",
    "    private static int temp;\n",
    "    private \n",
    "    public static int diagonalOp(int matA[][], int matB[][]) {\n",
    "        \n",
    "        for (int row = 0; row < matA.length; row++) {\n",
    "            col = row; \n",
    "            temp = matA[row][col] * matB[row][col];\n",
    "            count = count + temp;\n",
    "        }\n",
    "        return count;\n",
    "    } \n",
    "    public static int[][] expandMatrix(int matA) {\n",
    "        for (int row = 0; row < matA.length; row++) {\n",
    "            for (int column = 0; column < matA[row].length; column++ ) {\n",
    "                \n",
    "            }\n",
    "        }\n",
    "    }\n",
    "    public static void main(String args[]) {\n",
    "        int[][] matA = { {2, 4, 2}, {8, 5, 1}, {4, 2, 4} };\n",
    "        int[][] matB = { {-1, 8, 9}, {6, 3, 5}, {5, 1, 2} };\n",
    "        int[][] mat3 = { {-1, 2, 3}, {5, 4, 6} };\n",
    "        \n",
    "        int sum = MatrixOp.diagonalOp(matA, matB);\n",
    "        System.out.println(sum);\n",
    "\n",
    "        System.out.print();\n",
    "        int[][] mat4 = MatrixOp.expandMatrix(mat3);\n",
    "    }\n",
    "}\n",
    "\n",
    "MatrixOp.main(null);"
   ]
  }
 ],
 "metadata": {
  "kernelspec": {
   "display_name": "Java",
   "language": "java",
   "name": "java"
  },
  "language_info": {
   "codemirror_mode": "java",
   "file_extension": ".jshell",
   "mimetype": "text/x-java-source",
   "name": "Java",
   "pygments_lexer": "java",
   "version": "17.0.5+8-Ubuntu-2ubuntu120.04"
  },
  "orig_nbformat": 4
 },
 "nbformat": 4,
 "nbformat_minor": 2
}
