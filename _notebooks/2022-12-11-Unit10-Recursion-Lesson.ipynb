{
 "cells": [
  {
   "cell_type": "markdown",
   "metadata": {},
   "source": [
    "# Unit 10: Recursion Lesson\n",
    "> Bria, Aadya, Shreya, Ellie // AP CSA\n",
    "\n",
    "- toc: true \n",
    "- badges: true\n",
    "- comments: true\n",
    "- categories: [jupyter,unit10]\n",
    "- image: images/chart-preview.png"
   ]
  },
  {
   "cell_type": "markdown",
   "metadata": {},
   "source": [
    "## 10.2: Binary Search with Recursion"
   ]
  },
  {
   "cell_type": "code",
   "execution_count": 1,
   "metadata": {
    "vscode": {
     "languageId": "java"
    }
   },
   "outputs": [
    {
     "name": "stdout",
     "output_type": "stream",
     "text": [
      "index of target: 12\n"
     ]
    }
   ],
   "source": [
    "public class recursion{\n",
    "    public static int recursionBinarySearch(int[] array, int first, int last, int target){\n",
    "        int midpoint;\n",
    "\n",
    "        //if the first number is greater than the last, the target number is not in the list\n",
    "        if (first > last){\n",
    "            System.out.println(-1);\n",
    "            return -1;\n",
    "        }\n",
    "        else{\n",
    "            midpoint = (first+last)/2;\n",
    "\n",
    "            //take the upper bound if number is greater than midpoint\n",
    "            if (array[midpoint] < target){\n",
    "                return recursionBinarySearch(array, midpoint+1, last, target);\n",
    "            }\n",
    "\n",
    "            // take the lower bound if the number is lesser than midpoint\n",
    "            if (array[midpoint] > target){\n",
    "                return recursionBinarySearch(array, first,midpoint-1, target);\n",
    "            }\n",
    "        System.out.println(\"index of target: \" + midpoint);\n",
    "        return midpoint;\n",
    "        }\n",
    "    }\n",
    "\n",
    "    public static void main(String[] args){\n",
    "        // test array in main\n",
    "        int[] test_array = new int[]{ 0,2,4,6,8,10,12,14,16,18,20,22,24,26,28,30,32,34,36,38,40 };\n",
    "        recursion.recursionBinarySearch(test_array, 0, test_array.length, 24);\n",
    "    }\n",
    "}\n",
    "\n",
    "recursion.main(null);"
   ]
  },
  {
   "cell_type": "markdown",
   "metadata": {},
   "source": [
    "We start by taking the entire array, starting with the first and the last numbers, and find the midpoint. Starting number is 0, and end is 40, and the midpoint is 20.\n",
    "\n",
    "![recursion image](images/recursion1.png)\n",
    "\n",
    "Since 24 is greater than 20, we take the upper bound of the list, ignoring everything less that 22.The first number now becomes 22. \n",
    "\n",
    "![](images/recursion2.png)\n",
    "\n",
    "We identify the midpoint again, which is 30. Since the new midpoint is higher than 24, we now take the lower bound. Here, the last number becomes 28.\n",
    "\n",
    "![](images/recursion3.png)\n",
    "\n",
    "In this new bound, we find the midpoint again, which happens to be 24. So, we have found our target. \n",
    "\n",
    "![](images/recursion4.png)\n",
    "\n",
    "![](images/recursion5.png)\n"
   ]
  },
  {
   "cell_type": "markdown",
   "metadata": {},
   "source": [
    "## Class Activity\n",
    "If you are on the left side of the class, you will be working with the factorial code. If you are on the right side of the class, you will be working with the fibonacci code. The objective is to work with your crossover team to act out the recursion tree for the code segments below. The first team from each side to show up the correct recursion tree will recieve candy!\n",
    "\n",
    "**There are two options for this activity:**\n",
    "1. You and your crossover team physically act out the recursion tree, meaning standing up and each taking a sticky note to represent each branch of the tree. This is the better option.\n",
    "2. OR You and your crossover team work together to draw out the recursion tree on paper. Because we hate paper in CS, this will result in a deduction to your scoring on this lesson for being lazy meaning that it will be impossible for you to score over a 0.7/1 :(. "
   ]
  },
  {
   "cell_type": "markdown",
   "metadata": {},
   "source": [
    "### Fibonacci Code"
   ]
  },
  {
   "cell_type": "code",
   "execution_count": 7,
   "metadata": {
    "vscode": {
     "languageId": "java"
    }
   },
   "outputs": [
    {
     "name": "stdout",
     "output_type": "stream",
     "text": [
      "5\n"
     ]
    }
   ],
   "source": [
    "// Fibonacci Series using Recursion\n",
    "class fibonacci {\n",
    "\tstatic int fib(int n)\n",
    "\t{\n",
    "\t\tif (n <= 1)\n",
    "\t\t\treturn n;\n",
    "\t\treturn fib(n - 1) + fib(n - 2);\n",
    "\t}\n",
    "\n",
    "\tpublic static void main(String args[])\n",
    "\t{\n",
    "\t\tint n = 5;\n",
    "\t\tSystem.out.println(fib(n));\n",
    "\t}\n",
    "}\n",
    "\n",
    "fibonacci.main(null);"
   ]
  },
  {
   "cell_type": "markdown",
   "metadata": {},
   "source": [
    "### Factorial Code"
   ]
  },
  {
   "cell_type": "code",
   "execution_count": 4,
   "metadata": {
    "vscode": {
     "languageId": "java"
    }
   },
   "outputs": [
    {
     "name": "stdout",
     "output_type": "stream",
     "text": [
      "Factorial of 5 is :120\n"
     ]
    }
   ],
   "source": [
    "import java.io.*;\n",
    "import java.util.*;\n",
    " \n",
    "class factorial {\n",
    " \n",
    "    static int factorial(int n)\n",
    "    {\n",
    " \n",
    "        // Handling base case\n",
    "        // iIf value of n=1 or n=0, it returns 1\n",
    "        if (n == 0 || n == 1)\n",
    "            return 1;\n",
    " \n",
    "        // Generic case\n",
    "        // Otherwise we do n*(n-1)!\n",
    "        return n * factorial(n - 1);\n",
    "    }\n",
    " \n",
    "    // Method 2\n",
    "    // main driver method\n",
    "    public static void main(String[] args)\n",
    "    {\n",
    " \n",
    "        // Calling method 1 to compute factorial and\n",
    "        // storing the result into a variable\n",
    "        int ans = factorial(5);\n",
    " \n",
    "        // Print and display the factorial of number\n",
    "        // customly passed as an argument\n",
    "        System.out.println(\"Factorial of 5 is :\" + ans);\n",
    "    }\n",
    "}\n",
    "factorial.main(null);"
   ]
  }
 ],
 "metadata": {
  "kernelspec": {
   "display_name": "Java",
   "language": "java",
   "name": "java"
  },
  "language_info": {
   "codemirror_mode": "java",
   "file_extension": ".jshell",
   "mimetype": "text/x-java-source",
   "name": "Java",
   "pygments_lexer": "java",
   "version": "11.0.16+8-post-Ubuntu-0ubuntu120.04"
  },
  "orig_nbformat": 4
 },
 "nbformat": 4,
 "nbformat_minor": 2
}
