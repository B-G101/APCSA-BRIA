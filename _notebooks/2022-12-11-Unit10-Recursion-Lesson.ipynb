{
 "cells": [
  {
   "cell_type": "markdown",
   "metadata": {},
   "source": [
    "# Unit 10: Recursion Lesson\n",
    "> Bria, Aadya, Shreya, Ellie // AP CSA\n",
    "\n",
    "- toc: true \n",
    "- badges: true\n",
    "- comments: true\n",
    "- categories: [jupyter,unit10]\n",
    "- image: images/chart-preview.png"
   ]
  },
  {
   "cell_type": "markdown",
   "metadata": {},
   "source": [
    "## 10.2: Binary Search with Recursion"
   ]
  },
  {
   "cell_type": "code",
   "execution_count": 1,
   "metadata": {
    "vscode": {
     "languageId": "java"
    }
   },
   "outputs": [
    {
     "name": "stdout",
     "output_type": "stream",
     "text": [
      "index of target: 12\n"
     ]
    }
   ],
   "source": [
    "public class recursion{\n",
    "    public static int recursionBinarySearch(int[] array, int first, int last, int target){\n",
    "        int midpoint;\n",
    "\n",
    "        //if the first number is greater than the last, the target number is not in the list\n",
    "        if (first > last){\n",
    "            System.out.println(-1);\n",
    "            return -1;\n",
    "        }\n",
    "        else{\n",
    "            midpoint = (first+last)/2;\n",
    "\n",
    "            //take the upper bound if number is greater than midpoint\n",
    "            if (array[midpoint] < target){\n",
    "                return recursionBinarySearch(array, midpoint+1, last, target);\n",
    "            }\n",
    "\n",
    "            // take the lower bound if the number is lesser than midpoint\n",
    "            if (array[midpoint] > target){\n",
    "                return recursionBinarySearch(array, first,midpoint-1, target);\n",
    "            }\n",
    "        System.out.println(\"index of target: \" + midpoint);\n",
    "        return midpoint;\n",
    "        }\n",
    "    }\n",
    "\n",
    "    public static void main(String[] args){\n",
    "        // test array in main\n",
    "        int[] test_array = new int[]{ 0,2,4,6,8,10,12,14,16,18,20,22,24,26,28,30,32,34,36,38,40 };\n",
    "        recursion.recursionBinarySearch(test_array, 0, test_array.length, 24);\n",
    "    }\n",
    "}\n",
    "\n",
    "recursion.main(null);"
   ]
  },
  {
   "cell_type": "markdown",
   "metadata": {},
   "source": [
    "We start by taking the entire array, starting with the first and the last numbers, and find the midpoint. Starting number is 0, and end is 40, and the midpoint is 20.\n",
    "\n",
    "![recursion image](images/recursion1.png)\n",
    "\n",
    "Since 24 is greater than 20, we take the upper bound of the list, ignoring everything less that 22.The first number now becomes 22. \n",
    "\n",
    "![](images/recursion2.png)\n",
    "\n",
    "We identify the midpoint again, which is 30. Since the new midpoint is higher than 24, we now take the lower bound. Here, the last number becomes 28.\n",
    "\n",
    "![](images/recursion3.png)\n",
    "\n",
    "In this new bound, we find the midpoint again, which happens to be 24. So, we have found our target. \n",
    "\n",
    "![](images/recursion4.png)\n",
    "\n",
    "![](images/recursion5.png)\n"
   ]
  }
 ],
 "metadata": {
  "kernelspec": {
   "display_name": "Java",
   "language": "java",
   "name": "java"
  },
  "language_info": {
   "codemirror_mode": "java",
   "file_extension": ".jshell",
   "mimetype": "text/x-java-source",
   "name": "Java",
   "pygments_lexer": "java",
   "version": "11.0.16+8-post-Ubuntu-0ubuntu120.04"
  },
  "orig_nbformat": 4
 },
 "nbformat": 4,
 "nbformat_minor": 2
}
