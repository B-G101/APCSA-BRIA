{
 "cells": [
  {
   "attachments": {},
   "cell_type": "markdown",
   "metadata": {},
   "source": [
    "# Recursion, Sorting, Arraylist Hacks\n",
    "> Test Prep // AP CSA\n",
    "\n",
    "- toc: true \n",
    "- badges: true\n",
    "- comments: true\n",
    "- categories: [jupyter,testprep]\n",
    "- image: images/chart-preview.png"
   ]
  },
  {
   "attachments": {},
   "cell_type": "markdown",
   "metadata": {},
   "source": [
    "# Recursion, Sorting, Arraylist Hacks\n",
    "> Test Prep // AP CSA\n",
    "\n",
    "- toc: true \n",
    "- badges: true\n",
    "- comments: true\n",
    "- categories: [jupyter,testprep]\n",
    "- image: images/chart-preview.png"
   ]
  },
  {
   "attachments": {},
   "cell_type": "markdown",
   "metadata": {},
   "source": [
    "#### Recursion Hack"
   ]
  },
  {
   "cell_type": "code",
   "execution_count": 16,
   "metadata": {},
   "outputs": [
    {
     "name": "stdout",
     "output_type": "stream",
     "text": [
      "**********\n",
      "*********\n",
      "********\n",
      "*******\n",
      "******\n",
      "*****\n",
      "****\n",
      "***\n",
      "**\n",
      "*\n"
     ]
    }
   ],
   "source": [
    "public void drawLine(int n) {\n",
    "    if (n!=0) {\n",
    "        int count = 0;\n",
    "        for (int i = 1; i <= n; i++) {\n",
    "            System.out.print(\"*\");\n",
    "        }\n",
    "        count++;\n",
    "        System.out.println();\n",
    "        drawLine(n-count);\n",
    "}\n",
    "   \n",
    "  \n",
    "}\n",
    "drawLine(10);"
   ]
  },
  {
   "attachments": {},
   "cell_type": "markdown",
   "metadata": {},
   "source": [
    "#### Sorting Hacks"
   ]
  },
  {
   "cell_type": "code",
   "execution_count": 5,
   "metadata": {},
   "outputs": [
    {
     "name": "stdout",
     "output_type": "stream",
     "text": [
      "Name: USA | Size: 331\n",
      "Name: Russia | Size: 143\n",
      "Name: Japan | Size: 126\n",
      "Name: Italy | Size: 59\n",
      "Name: England | Size: 56\n"
     ]
    }
   ],
   "source": [
    "class Country implements Comparable<Country> { \n",
    "    private int size;\n",
    "    private String name;\n",
    "\n",
    "    public Country(int size, String name){\n",
    "        this.size = size;\n",
    "        this.name = name;\n",
    "    }\n",
    "\n",
    "    public int getSize(){\n",
    "        return size;\n",
    "    }\n",
    "\n",
    "    public String getName(){\n",
    "        return name;\n",
    "    }\n",
    "\n",
    "    @Override\n",
    "    public int compareTo(Country c2){\n",
    "        return this.size - c2.size;\n",
    "    }\n",
    "\n",
    "    @Override\n",
    "    public String toString(){\n",
    "        return \"Name: \" + name + \" |\" + \" Size: \" + size;\n",
    "    }\n",
    "\n",
    "    public static void largeToSmall(ArrayList<Country> arrList){\n",
    "        for (int i = 0; i < (arrList.size() - 1); i++){\n",
    "            int largest = i;\n",
    "            for (int k = i+1; k < arrList.size(); k++){\n",
    "                if (arrList.get(k).compareTo(arrList.get(largest)) > 0){\n",
    "                    largest = k;\n",
    "                }\n",
    "            }\n",
    "            Country temp = arrList.get(largest);\n",
    "            arrList.set(largest, arrList.get(i));\n",
    "            arrList.set(i, temp);\n",
    "        }\n",
    "    }\n",
    "\n",
    "    public static void main(String[] args){\n",
    "        ArrayList<Country> arrList = new ArrayList<Country>();\n",
    "        arrList.add(new Country(331, \"USA\"));\n",
    "        arrList.add(new Country(56, \"England\"));\n",
    "        arrList.add(new Country(143, \"Russia\"));\n",
    "        arrList.add(new Country(126, \"Japan\"));\n",
    "        arrList.add(new Country(59, \"Italy\"));\n",
    "\n",
    "        largeToSmall(arrList);\n",
    "\n",
    "        for (int i = 0; i < arrList.size(); i++){\n",
    "            System.out.println(arrList.get(i));\n",
    "        }\n",
    "    }\n",
    "}\n",
    "\n",
    "Country.main(null);"
   ]
  },
  {
   "attachments": {},
   "cell_type": "markdown",
   "metadata": {},
   "source": [
    "#### ArrayList Hacks"
   ]
  },
  {
   "cell_type": "code",
   "execution_count": 6,
   "metadata": {},
   "outputs": [
    {
     "name": "stdout",
     "output_type": "stream",
     "text": [
      "true\n",
      "false\n",
      "[1, 5, 9]\n"
     ]
    }
   ],
   "source": [
    "import java.util.ArrayList;\n",
    "\n",
    "class arrayListHacks {\n",
    "\n",
    "    public static Boolean compareReverse(ArrayList<Integer> arrList1, ArrayList<Integer> arrList2){\n",
    "        int count = 0;\n",
    "        int endTerm = arrList2.size() - 1;\n",
    "        for (int i = 0; i < arrList1.size() -1; i++){\n",
    "            if (arrList1.get(i) == arrList2.get(endTerm)){\n",
    "                count++;\n",
    "                endTerm--;\n",
    "            }\n",
    "        }\n",
    "        if (count == arrList1.size()-1){\n",
    "            return true;\n",
    "        }\n",
    "        else {\n",
    "            return false;\n",
    "        }\n",
    "    }\n",
    "\n",
    "    public static ArrayList<Integer> removeAlternating(ArrayList<Integer> arrList){\n",
    "        //only need to increment by one because deleting an element moves every element up by one\n",
    "        for (int i = 1; i < (arrList.size() - 1); i++){\n",
    "            arrList.remove(i);\n",
    "        }\n",
    "\n",
    "        return arrList;\n",
    "    } \n",
    "\n",
    "\n",
    "    public static void main(String[] args){\n",
    "       ArrayList<Integer> arrListA = new ArrayList<Integer>(\n",
    "       Arrays.asList(1, 2, 3, 4, 5));\n",
    "\n",
    "       ArrayList<Integer> arrListB = new ArrayList<Integer>(\n",
    "       Arrays.asList(5, 4, 3, 2, 1));\n",
    "\n",
    "       ArrayList<Integer> arrListC = new ArrayList<Integer>(\n",
    "       Arrays.asList(1, 3, 5, 7, 9));\n",
    "\n",
    "\n",
    "       System.out.println(compareReverse(arrListA, arrListB));\n",
    "       System.out.println(compareReverse(arrListA, arrListC));\n",
    "\n",
    "       System.out.println(removeAlternating(arrListC));\n",
    "\n",
    "    }\n",
    "}\n",
    "\n",
    "arrayListHacks.main(null);"
   ]
  }
 ],
 "metadata": {
  "kernelspec": {
   "display_name": "Java",
   "language": "java",
   "name": "java"
  },
  "language_info": {
   "codemirror_mode": "java",
   "file_extension": ".jshell",
   "mimetype": "text/x-java-source",
   "name": "java",
   "pygments_lexer": "java",
   "version": "17.0.5+8-Ubuntu-2ubuntu120.04"
  },
  "orig_nbformat": 4
 },
 "nbformat": 4,
 "nbformat_minor": 2
}
