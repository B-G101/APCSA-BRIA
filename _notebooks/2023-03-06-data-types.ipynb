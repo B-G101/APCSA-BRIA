{
 "cells": [
  {
   "attachments": {},
   "cell_type": "markdown",
   "metadata": {},
   "source": [
    "# Data Types\n",
    "> Test Prep // AP CSA\n",
    "\n",
    "- toc: true \n",
    "- badges: true\n",
    "- comments: true\n",
    "- categories: [jupyter,testprep]\n",
    "- image: images/chart-preview.png"
   ]
  },
  {
   "cell_type": "code",
   "execution_count": 173,
   "metadata": {
    "vscode": {
     "languageId": "java"
    }
   },
   "outputs": [
    {
     "name": "stdout",
     "output_type": "stream",
     "text": [
      "Binary of 120 + 2\n",
      "[1, 1, 1, 1, 0, 1, 0]\n",
      "1 1 1 1 0 1 0 \n",
      "\n",
      "Binary of 20 + 40\n",
      "[1, 1, 1, 1, 0, 0]\n",
      "1 1 1 1 0 0 \n",
      "\n",
      "Binary of 25 + 47\n",
      "[1, 0, 0, 1, 0, 0, 0]\n",
      "1 0 0 1 0 0 0 \n",
      "\n",
      "Binary of 2 + 2\n",
      "[1, 0, 0]\n",
      "1 0 0 "
     ]
    }
   ],
   "source": [
    "import java.util.*;\n",
    "import java.util.ArrayList;\n",
    "\n",
    "public class binaryConverter {\n",
    "    public static ArrayList binaryAddition(int num1, int num2) {\n",
    "        int added;\n",
    "        String z;\n",
    "        ArrayList<Integer> bArray = new ArrayList<>();\n",
    "        StringBuilder sb = new StringBuilder();\n",
    "\n",
    "        for (int j = num1 + num2; j > 0; j = j/2) {\n",
    "            added = j;\n",
    "            if (added % 2 == 0) {\n",
    "                bArray.add(0,0);\n",
    "            }\n",
    "            else {\n",
    "                bArray.add(0,1);\n",
    "            }\n",
    "        }\n",
    "        \n",
    "        System.out.println(bArray);\n",
    "\n",
    "        for (int x : bArray) {\n",
    "            System.out.print(x + \" \");\n",
    "        }\n",
    "        return bArray;\n",
    "    } \n",
    "\n",
    "    public static void main(String[] arg) {\n",
    "        System.out.println(\"Binary of 120 + 2\");\n",
    "        binaryConverter.binaryAddition(120, 2);\n",
    "        System.out.println();\n",
    "        System.out.println();\n",
    "        System.out.println(\"Binary of 20 + 40\");\n",
    "        binaryConverter.binaryAddition(20,40);\n",
    "        System.out.println();\n",
    "        System.out.println();\n",
    "        System.out.println(\"Binary of 25 + 47\");\n",
    "        binaryConverter.binaryAddition(25,47);\n",
    "        System.out.println();\n",
    "        System.out.println();\n",
    "        System.out.println(\"Binary of 2 + 2\");\n",
    "        binaryConverter.binaryAddition(2,2);\n",
    "        \n",
    "    }\n",
    "}\n",
    "binaryConverter.main(null);"
   ]
  },
  {
   "attachments": {},
   "cell_type": "markdown",
   "metadata": {},
   "source": [
    "### Notes\n",
    "- by value vs by reference\n",
    "- inside object is a value \n",
    "- there is a structure around the value and the value is referenced to \n",
    "- vs the value specifically in primitive\n",
    "- two data types primitive and reference\n",
    "- different ways that variables exist\n",
    "- reference - inside of the structure there is pointers to memory locations; addresses that are pointing to variables; stored in the heap and reference points to the memory\n",
    "- primitive - local variable that is kept for you\n",
    "- wrapper class converts primitives to objects\n",
    "- ex: int to Integer however Integer does not behave like a class\n",
    "- object is a type of reference\n",
    "- variables are called a stack\n",
    "- variables either point to values directly in the stack (primitives) or to memory locations called heap (reference)\n",
    "- String is a class because it is a collection of characters\n",
    "- class has data and methods and can mix data types\n",
    "- array can only have 1 data type\n",
    "- primitive is stored locally, it is not the same variable each time\n",
    "- passing reference variable passes the reference so they will change method to method\n",
    "- passing primitive variables will not change between methods; you would only be changing local variables in methods"
   ]
  },
  {
   "cell_type": "code",
   "execution_count": 63,
   "metadata": {
    "vscode": {
     "languageId": "java"
    }
   },
   "outputs": [
    {
     "ename": "CompilationException",
     "evalue": "",
     "output_type": "error",
     "traceback": [
      "\u001b[1m\u001b[30m|   \u001b[1m\u001b[30m    \u001b[0m\u001b[1m\u001b[30m\u001b[41m\u001b[0m\u001b[1m\u001b[30mpublic static int closestTo(int n, Arraylist x) {\u001b[0m",
      "\u001b[1m\u001b[31millegal start of expression\u001b[0m",
      ""
     ]
    }
   ],
   "source": [
    "public class closestToVar {\n",
    "    int n = \n",
    "    \n",
    "    public static int closestTo(int n, Arraylist x) {\n",
    "        \n",
    "    }\n",
    "}\n",
    "\n",
    "closestToVar.main(null);"
   ]
  },
  {
   "cell_type": "code",
   "execution_count": 62,
   "metadata": {
    "vscode": {
     "languageId": "java"
    }
   },
   "outputs": [
    {
     "name": "stdout",
     "output_type": "stream",
     "text": [
      "Main method before changeInt(n): n = 5\n",
      "In changeInt method\n",
      "\tBefore n += 10: n = 5\n",
      "\tAfter n += 10: n = 15\n",
      "Main method after changeInt(n): n = 5\n"
     ]
    }
   ],
   "source": [
    "public class IntByValue {\n",
    "    \n",
    "    public static void changeInt(int n) {\n",
    "        System.out.println(\"In changeInt method\");\n",
    "        System.out.println(\"\\tBefore n += 10: n = \" + n); // prints 5\n",
    "        n = n += 10;\n",
    "        System.out.println(\"\\tAfter n += 10: n = \" + n); // prints 10\n",
    "    }\n",
    "\n",
    "    public static void main(String[] args) {\n",
    "        int n = 5;\n",
    "        System.out.println(\"Main method before changeInt(n): n = \" + n); // prints 5\n",
    "        changeInt(n);\n",
    "        System.out.println(\"Main method after changeInt(n): n = \" + n); // still prints 5\n",
    "    }\n",
    "}\n",
    "IntByValue.main(null);"
   ]
  },
  {
   "cell_type": "code",
   "execution_count": 64,
   "metadata": {
    "vscode": {
     "languageId": "java"
    }
   },
   "outputs": [
    {
     "name": "stdout",
     "output_type": "stream",
     "text": [
      "Main method before changeInteger(n): n = 5 hash code = 5\n",
      "In changeInteger method\n",
      "\tBefore change: n = 5 hash code = 5\n",
      "\tAfter change: n = 15 hash code = 15\n",
      "Main method after changeInteger(n): n = 5 hash code = 5\n"
     ]
    }
   ],
   "source": [
    "public class IntegerByValueOrReference {\n",
    "    \n",
    "    public static void changeInteger(Integer n) {\n",
    "        System.out.println(\"In changeInteger method\");\n",
    "        System.out.println(\"\\tBefore change: n = \" + \n",
    "                            n + // prints 5\n",
    "                            \" hash code = \" + \n",
    "                            n.hashCode()); \n",
    "\n",
    "        n += 10;  // behind the scenes, this is:  n = new Integer(n+10)\n",
    "        \n",
    "        System.out.println(\"\\tAfter change: n = \" + \n",
    "                            n + // prints 15\n",
    "                            \" hash code = \" + \n",
    "                            n.hashCode()); \n",
    "    }\n",
    "\n",
    "    public static void main(String[] args) {\n",
    "        Integer n = 5;\n",
    "        System.out.println(\"Main method before changeInteger(n): n = \" + \n",
    "                            n + // prints 5\n",
    "                            \" hash code = \" + \n",
    "                            n.hashCode()); \n",
    "\n",
    "        changeInteger(n);\n",
    "        \n",
    "        System.out.println(\"Main method after changeInteger(n): n = \" + \n",
    "                            n +  // now prints 15\n",
    "                            \" hash code = \" + \n",
    "                            n.hashCode());     \n",
    "    }\n",
    "}\n",
    "IntegerByValueOrReference.main(null);"
   ]
  },
  {
   "cell_type": "code",
   "execution_count": 65,
   "metadata": {
    "vscode": {
     "languageId": "java"
    }
   },
   "outputs": [
    {
     "name": "stdout",
     "output_type": "stream",
     "text": [
      "Main method before changeAtomicInteger(n): n = 5 hash code = 2065340154\n",
      "In changeAtomicInteger method\n",
      "\tBefore change: n = 5 hash code = 2065340154\n",
      "\tAfter change: n = 15 hash code = 2065340154\n",
      "Main method after changeAtomicInteger(n): n = 15 hash code = 2065340154\n"
     ]
    }
   ],
   "source": [
    "import java.util.concurrent.atomic.AtomicInteger;\n",
    "\n",
    "public class PassByReference {\n",
    "    \n",
    "    public static void changeAtomicInteger(AtomicInteger n) {\n",
    "        System.out.println(\"In changeAtomicInteger method\");\n",
    "        System.out.println(\"\\tBefore change: n = \" + \n",
    "                            n + // prints 5\n",
    "                            \" hash code = \" + \n",
    "                            n.hashCode()); \n",
    "        n.set(n.get() + 10);  // at this point, we are clearly working with reference data type\n",
    "        System.out.println(\"\\tAfter change: n = \" + \n",
    "                            n + // prints 15\n",
    "                            \" hash code = \" + \n",
    "                            n.hashCode()); \n",
    "}\n",
    "\n",
    "    public static void main(String[] args) {\n",
    "        AtomicInteger n = new AtomicInteger(5); // unlike conventional wrapper class, this requires new\n",
    "        System.out.println(\"Main method before changeAtomicInteger(n): n = \" + \n",
    "                            n + // prints 5\n",
    "                            \" hash code = \" + \n",
    "                            n.hashCode()); \n",
    "        changeAtomicInteger(n);\n",
    "        System.out.println(\"Main method after changeAtomicInteger(n): n = \" + \n",
    "                            n +  // now prints 15\n",
    "                            \" hash code = \" + \n",
    "                            n.hashCode()); \n",
    "    }\n",
    "}\n",
    "PassByReference.main(null);"
   ]
  },
  {
   "cell_type": "code",
   "execution_count": 167,
   "metadata": {
    "vscode": {
     "languageId": "java"
    }
   },
   "outputs": [
    {
     "name": "stdout",
     "output_type": "stream",
     "text": [
      "Before: 21 16\n",
      "After: 16 21\n",
      "\n",
      "Before: 16 21\n",
      "After: 16 21\n",
      "\n",
      "Before: 16 -1\n",
      "After: -1 16\n",
      "\n"
     ]
    }
   ],
   "source": [
    "public class IntByReference {\n",
    "    private int value;\n",
    "\n",
    "    public IntByReference(Integer value) {\n",
    "        this.value = value;\n",
    "    }\n",
    "\n",
    "    public String toString() {\n",
    "        return (String.format(\"%d\", this.value));\n",
    "    }\n",
    "\n",
    "    public void swapToLowHighOrder(IntByReference i) {\n",
    "        if (this.value > i.value) {\n",
    "            int tmp = this.value;\n",
    "            this.value = i.value;\n",
    "            i.value = tmp;\n",
    "        }\n",
    "    }\n",
    "\n",
    "    public static void swapper(int n0, int n1) {\n",
    "        IntByReference a = new IntByReference(n0);\n",
    "        IntByReference b = new IntByReference(n1);\n",
    "        System.out.println(\"Before: \" + a + \" \" + b);\n",
    "        a.swapToLowHighOrder(b);  // conditionally build swap method to change values of a, b\n",
    "        System.out.println(\"After: \" + a + \" \" + b);\n",
    "        System.out.println();\n",
    "    }\n",
    "\n",
    "    public static void main(String[] ags) {\n",
    "        IntByReference.swapper(21, 16);\n",
    "        IntByReference.swapper(16, 21);\n",
    "        IntByReference.swapper(16, -1);\n",
    "    }\n",
    "\n",
    "}\n",
    "IntByReference.main(null);"
   ]
  },
  {
   "attachments": {},
   "cell_type": "markdown",
   "metadata": {},
   "source": [
    "## Small Code Excercises"
   ]
  },
  {
   "attachments": {},
   "cell_type": "markdown",
   "metadata": {},
   "source": [
    "int vs Integer"
   ]
  },
  {
   "cell_type": "code",
   "execution_count": 7,
   "metadata": {
    "vscode": {
     "languageId": "java"
    }
   },
   "outputs": [
    {
     "name": "stdout",
     "output_type": "stream",
     "text": [
      "The maximum number in the array is 92\n"
     ]
    }
   ],
   "source": [
    "public class primitiveExample {\n",
    "    public static void greatestIntInArray(int[] arr) {\n",
    "        int max = 0;\n",
    "        for (int n : arr) {\n",
    "            if (n > max) {\n",
    "                max = n;\n",
    "            }\n",
    "        }\n",
    "        System.out.println(\"The maximum number in the array is \" + max);\n",
    "    }\n",
    "\n",
    "    public static void main(String[] arg) {\n",
    "        int[] tester = {43,54,23,65,78,85,88,92,10};\n",
    "        primitiveExample.greatestIntInArray(tester);\n",
    "    }\n",
    "}\n",
    "primitiveExample.main(null);"
   ]
  },
  {
   "cell_type": "code",
   "execution_count": 49,
   "metadata": {
    "vscode": {
     "languageId": "java"
    }
   },
   "outputs": [
    {
     "name": "stdout",
     "output_type": "stream",
     "text": [
      "The maximum number in the array is 92\n"
     ]
    }
   ],
   "source": [
    "public class wrapperExample {\n",
    "    public static void greatestIntegerInArray(Integer[] arr) {\n",
    "        Integer max = 0;\n",
    "        for (Integer n : arr) {\n",
    "            if (n > max) {\n",
    "                max = n;\n",
    "            }\n",
    "        }\n",
    "        System.out.println(\"The maximum number in the array is \" + max);\n",
    "    }\n",
    "\n",
    "    public static void main(String[] arg) {\n",
    "        Integer[] tester = {43,54,23,65,78,85,88,92,10};\n",
    "        wrapperExample.greatestIntegerInArray(tester);\n",
    "    }\n",
    "}\n",
    "wrapperExample.main(null);"
   ]
  },
  {
   "attachments": {},
   "cell_type": "markdown",
   "metadata": {},
   "source": [
    "double vs Double"
   ]
  },
  {
   "cell_type": "code",
   "execution_count": 46,
   "metadata": {
    "vscode": {
     "languageId": "java"
    }
   },
   "outputs": [
    {
     "name": "stdout",
     "output_type": "stream",
     "text": [
      "Original array [0.22729475334448135, 0.48211900754345005, 0.07435759459797553, 0.9680458867726401, 0.2737927656314638, 0.3997104014181716, 0.5645032050550602, 0.9582097378661634, 0.4815384177959833, 0.45514285711532]\n",
      "The minimum number in the array is 0.07435759459797553\n"
     ]
    }
   ],
   "source": [
    "import java.util.*;\n",
    "public class primitiveExample {\n",
    "    public static void smallestDoubleArray(double[] arr) {\n",
    "        double min = 100000;\n",
    "        for (double n : arr) {\n",
    "            if (n < min) {\n",
    "                min = n;\n",
    "            }\n",
    "        }\n",
    "        System.out.println(\"The minimum number in the array is \" + min);\n",
    "    }\n",
    "\n",
    "    public static void main(String[] arg) {\n",
    "        double[] tester = new double[10];\n",
    "        for (int j = 0; j < 10; j++) {\n",
    "            double x = Math.random();\n",
    "            tester[j] = x;\n",
    "        }\n",
    "        System.out.println(\"Original array \" + Arrays.toString(tester));\n",
    "        primitiveExample.smallestDoubleArray(tester);\n",
    "    }\n",
    "}\n",
    "primitiveExample.main(null);"
   ]
  },
  {
   "cell_type": "code",
   "execution_count": 50,
   "metadata": {
    "vscode": {
     "languageId": "java"
    }
   },
   "outputs": [
    {
     "name": "stdout",
     "output_type": "stream",
     "text": [
      "Original array [0.20862486201640618, 0.677846505993182, 0.6472488902012384, 0.2995302577315666, 0.7898046557093028, 0.8269508850611832, 0.8219311744911059, 0.61369659155693, 0.5313837155000881, 0.5491872913479079]\n",
      "The minimum number in the array is 0.20862486201640618\n"
     ]
    }
   ],
   "source": [
    "import java.util.*;\n",
    "public class wrapperExample {\n",
    "    public static void smallestDoubleArray(Double[] arr) {\n",
    "        Double min = 100000.0;\n",
    "        for (Double n : arr) {\n",
    "            if (n < min) {\n",
    "                min = n;\n",
    "            }\n",
    "        }\n",
    "        System.out.println(\"The minimum number in the array is \" + min);\n",
    "    }\n",
    "\n",
    "    public static void main(String[] arg) {\n",
    "        Double[] tester = new Double[10];\n",
    "        for (Integer j = 0; j < 10; j++) {\n",
    "            Double x = Math.random();\n",
    "            tester[j] = x;\n",
    "        }\n",
    "        System.out.println(\"Original array \" + Arrays.toString(tester));\n",
    "        wrapperExample.smallestDoubleArray(tester);\n",
    "    }\n",
    "}\n",
    "wrapperExample.main(null);"
   ]
  },
  {
   "attachments": {},
   "cell_type": "markdown",
   "metadata": {},
   "source": [
    "boolean vs Boolean"
   ]
  },
  {
   "cell_type": "code",
   "execution_count": 36,
   "metadata": {
    "vscode": {
     "languageId": "java"
    }
   },
   "outputs": [
    {
     "name": "stdout",
     "output_type": "stream",
     "text": [
      "Is 5 even?\n",
      "false\n",
      "Is 148 even?\n",
      "true\n",
      "Is 3 even?\n",
      "false\n"
     ]
    }
   ],
   "source": [
    "import java.util.*;\n",
    "public class primitiveExample {\n",
    "    public static boolean isNumEven(int x) {  \n",
    "        if (x%2 == 0) {\n",
    "            System.out.println(\"true\");\n",
    "            return true;\n",
    "        }  \n",
    "        else {\n",
    "            System.out.println(\"false\");\n",
    "            return false;\n",
    "        }\n",
    "    }\n",
    "    public static void main(String[] arg) {\n",
    "        System.out.println(\"Is 5 even?\");\n",
    "        primitiveExample.isNumEven(5);\n",
    "        System.out.println(\"Is 148 even?\");\n",
    "        primitiveExample.isNumEven(148);\n",
    "        System.out.println(\"Is 3 even?\");\n",
    "        primitiveExample.isNumEven(3);\n",
    "\n",
    "    }\n",
    "}\n",
    "primitiveExample.main(null);"
   ]
  },
  {
   "cell_type": "code",
   "execution_count": 51,
   "metadata": {
    "vscode": {
     "languageId": "java"
    }
   },
   "outputs": [
    {
     "name": "stdout",
     "output_type": "stream",
     "text": [
      "Is 5 even?\n",
      "false\n",
      "Is 148 even?\n",
      "true\n",
      "Is 3 even?\n",
      "false\n"
     ]
    }
   ],
   "source": [
    "import java.util.*;\n",
    "public class wrapperExample {\n",
    "    public static Boolean isNumEven(int x) {  \n",
    "        if (x%2 == 0) {\n",
    "            System.out.println(\"true\");\n",
    "            return true;\n",
    "        }  \n",
    "        else {\n",
    "            System.out.println(\"false\");\n",
    "            return false;\n",
    "        }\n",
    "    }\n",
    "    public static void main(String[] arg) {\n",
    "        System.out.println(\"Is 5 even?\");\n",
    "        wrapperExample.isNumEven(5);\n",
    "        System.out.println(\"Is 148 even?\");\n",
    "        wrapperExample.isNumEven(148);\n",
    "        System.out.println(\"Is 3 even?\");\n",
    "        wrapperExample.isNumEven(3);\n",
    "\n",
    "    }\n",
    "}\n",
    "wrapperExample.main(null);"
   ]
  },
  {
   "attachments": {},
   "cell_type": "markdown",
   "metadata": {},
   "source": [
    "char vs Character"
   ]
  },
  {
   "cell_type": "code",
   "execution_count": 41,
   "metadata": {
    "vscode": {
     "languageId": "java"
    }
   },
   "outputs": [
    {
     "name": "stdout",
     "output_type": "stream",
     "text": [
      "The value of c1 is: A\n",
      "After incrementing: B\n",
      "After incrementing: C\n",
      "After decrementing: B\n"
     ]
    }
   ],
   "source": [
    "public class primitiveExample {\n",
    " \n",
    "    public static void main(String[] args) {\n",
    "         \n",
    "        char c1 = 'A';\n",
    "        System.out.println(\"The value of c1 is: \" + c1);\n",
    "         \n",
    "        c1++;\n",
    "        System.out.println(\"After incrementing: \" + c1);\n",
    "\n",
    "        c1++;\n",
    "        System.out.println(\"After incrementing: \" + c1);\n",
    "         \n",
    "        c1--;\n",
    "        System.out.println(\"After decrementing: \" + c1);\n",
    "         \n",
    "    }\n",
    " \n",
    "}\n",
    "primitiveExample.main(null);"
   ]
  },
  {
   "cell_type": "code",
   "execution_count": 52,
   "metadata": {
    "vscode": {
     "languageId": "java"
    }
   },
   "outputs": [
    {
     "name": "stdout",
     "output_type": "stream",
     "text": [
      "The value of c1 is: A\n",
      "After incrementing: B\n",
      "After incrementing: C\n",
      "After decrementing: B\n"
     ]
    }
   ],
   "source": [
    "public class wrapperExample {\n",
    " \n",
    "    public static void main(String[] args) {\n",
    "         \n",
    "        Character c1 = 'A';\n",
    "        System.out.println(\"The value of c1 is: \" + c1);\n",
    "         \n",
    "        c1++;\n",
    "        System.out.println(\"After incrementing: \" + c1);\n",
    "\n",
    "        c1++;\n",
    "        System.out.println(\"After incrementing: \" + c1);\n",
    "         \n",
    "        c1--;\n",
    "        System.out.println(\"After decrementing: \" + c1);\n",
    "         \n",
    "    }\n",
    " \n",
    "}wrapperExample.main(null);"
   ]
  },
  {
   "attachments": {},
   "cell_type": "markdown",
   "metadata": {},
   "source": [
    "### More Notes\n",
    "\n",
    "##### Methods and Control Structures:\n",
    "\n",
    "A method is a set of code which is referred to by name and can be called at any point in a program. A method has a declaration and a body. The declaration includes the access level, return type, name, and parameters. The body contains the statements implemented by the method. There are two types of methods: built-in and user-defined. \n",
    "\n",
    "Control structures are a way to specify flow of control in programs. It is like a block of programming that analyses variables and  and chooses a direction in ehich to go based on given parameters. There are two main control structures: loops and conditionals.\n",
    "\n",
    "\n",
    "##### Diverse Arrays\n",
    "\n",
    "This class does contain methods and control structures. There are 3 main methods that are meant for 2D arrays. There are also control strcutures because there are for loops and if statements. This class includes 2D arrays. It includes integers, booleans, and arrays. It is all primitive data types. \n",
    "\n",
    "\n",
    "##### DoNothingByValue\n",
    "\n",
    "The key knowledge is that this class makes changes to an array of values. It is an reference data types not primitives because there are objects and they are being referenced and being changed.\n",
    "\n",
    "##### IntByReference\n",
    "\n",
    "The key knowledge is that this class swaps the orders the two valuues from lowest to highest. It is a reference data type because the data is changed. \n",
    " "
   ]
  },
  {
   "cell_type": "code",
   "execution_count": 60,
   "metadata": {
    "vscode": {
     "languageId": "java"
    }
   },
   "outputs": [],
   "source": [
    "import java.util.HashMap;\n",
    "import java.util.Map;\n",
    "import java.util.Scanner;\n",
    "\n",
    "/**\n",
    " * Menu: custom implementation\n",
    " * @author     John Mortensen\n",
    " *\n",
    " * Uses String to contain Title for an Option\n",
    " * Uses Runnable to store Class-Method to be run when Title is selected\n",
    " */\n",
    "\n",
    "// The Menu Class has a HashMap of Menu Rows\n",
    "public class Menu {\n",
    "    // Format\n",
    "    // Key {0, 1, 2, ...} created based on order of input menu\n",
    "    // Value {MenuRow0, MenuRow1, MenuRow2,...} each corresponds to key\n",
    "    // MenuRow  {<Exit,Noop>, Option1, Option2, ...}\n",
    "    Map<Integer, MenuRow> menu = new HashMap<>();\n",
    "\n",
    "    /**\n",
    "     *  Constructor for Menu,\n",
    "     *\n",
    "     * @param  rows,  is the row data for menu.\n",
    "     */\n",
    "    public Menu(MenuRow[] rows) {\n",
    "        int i = 0;\n",
    "        for (MenuRow row : rows) {\n",
    "            // Build HashMap for lookup convenience\n",
    "            menu.put(i++, new MenuRow(row.getTitle(), row.getAction()));\n",
    "        }\n",
    "    }\n",
    "\n",
    "    /**\n",
    "     *  Get Row from Menu,\n",
    "     *\n",
    "     * @param  i,  HashMap key (k)\n",
    "     *\n",
    "     * @return  MenuRow, the selected menu\n",
    "     */\n",
    "    public MenuRow get(int i) {\n",
    "        return menu.get(i);\n",
    "    }\n",
    "\n",
    "    /**\n",
    "     *  Iterate through and print rows in HashMap\n",
    "     */\n",
    "    public void print() {\n",
    "        for (Map.Entry<Integer, MenuRow> pair : menu.entrySet()) {\n",
    "            System.out.println(pair.getKey() + \" ==> \" + pair.getValue().getTitle());\n",
    "        }\n",
    "    }\n",
    "\n",
    "    /**\n",
    "     *  To test run Driver\n",
    "     */\n",
    "    public static void main(String[] args) {\n",
    "        Driver.main(args);\n",
    "    }\n",
    "\n",
    "}\n"
   ]
  },
  {
   "cell_type": "code",
   "execution_count": 58,
   "metadata": {
    "vscode": {
     "languageId": "java"
    }
   },
   "outputs": [],
   "source": [
    "class MenuRow {\n",
    "    String title;       // menu item title\n",
    "    Runnable action;    // menu item action, using Runnable\n",
    "\n",
    "    /**\n",
    "     *  Constructor for MenuRow,\n",
    "     *\n",
    "     * @param  title,  is the description of the menu item\n",
    "     * @param  action, is the run-able action for the menu item\n",
    "     */\n",
    "    public MenuRow(String title, Runnable action) {\n",
    "        this.title = title;\n",
    "        this.action = action;\n",
    "    }\n",
    "\n",
    "    /**\n",
    "     *  Getters\n",
    "     */\n",
    "    public String getTitle() {\n",
    "        return this.title;\n",
    "    }\n",
    "    public Runnable getAction() {\n",
    "        return this.action;\n",
    "    }\n",
    "\n",
    "    /**\n",
    "     *  Runs the action using Runnable (.run)\n",
    "     */\n",
    "    public void run() {\n",
    "        action.run();\n",
    "    }\n",
    "}"
   ]
  },
  {
   "cell_type": "code",
   "execution_count": 79,
   "metadata": {
    "vscode": {
     "languageId": "java"
    }
   },
   "outputs": [
    {
     "name": "stdout",
     "output_type": "stream",
     "text": [
      "Hacks Menu:\n",
      "0 ==> Exit\n",
      "1 ==> Do Nothing\n",
      "2 ==> Swap if Hi-Low\n",
      "3 ==> Matrix Reverse\n",
      "4 ==> Diverse Array\n",
      "5 ==> Random Squirrels\n",
      "Squirrels: 7 Days: 11\n",
      "Squirrels: 7 Days: 19\n",
      "Squirrels: 10 Days: 15\n",
      "Squirrels: 13 Days: 12\n",
      "Squirrels: 15 Days: 16\n",
      "Squirrels: 15 Days: 18\n",
      "Squirrels: 20 Days: 14\n",
      "Squirrels: 20 Days: 17\n",
      "Squirrels: 22 Days: 13\n",
      "Squirrels: 30 Days: 10\n",
      "Total random squirrels: 159, Number of days: 10\n",
      "Average squirrels per day: 15.9\n",
      "Hacks Menu:\n",
      "0 ==> Exit\n",
      "1 ==> Do Nothing\n",
      "2 ==> Swap if Hi-Low\n",
      "3 ==> Matrix Reverse\n",
      "4 ==> Diverse Array\n",
      "5 ==> Random Squirrels\n"
     ]
    }
   ],
   "source": [
    "// The Main Class illustrates initializing and using Menu with Runnable action\n",
    "class Driver {\n",
    "    /**\n",
    "     *  Menu Control Example\n",
    "     */\n",
    "    public static void main(String[] args) {\n",
    "        // Row initialize\n",
    "        MenuRow[] rows = new MenuRow[]{\n",
    "            // lambda style, () -> to point to Class.Method\n",
    "            new MenuRow(\"Exit\", () -> main(null)),\n",
    "            new MenuRow(\"Do Nothing\", () -> DoNothingByValue.main(null)),\n",
    "            new MenuRow(\"Swap if Hi-Low\", () -> IntByReference.main(null)),\n",
    "            new MenuRow(\"Matrix Reverse\", () -> Matrix.main(null)),\n",
    "            new MenuRow(\"Diverse Array\", () -> Matrix.main(null)),\n",
    "            new MenuRow(\"Random Squirrels\", () -> Number.main(null))\n",
    "        };\n",
    "\n",
    "        // Menu construction\n",
    "        Menu menu = new Menu(rows);\n",
    "\n",
    "        // Run menu forever, exit condition contained in loop\n",
    "        while (true) {\n",
    "            System.out.println(\"Hacks Menu:\");\n",
    "            // print rows\n",
    "            menu.print();\n",
    "\n",
    "            // Scan for input\n",
    "            try {\n",
    "                Scanner scan = new Scanner(System.in);\n",
    "                int selection = scan.nextInt();\n",
    "\n",
    "                // menu action\n",
    "                try {\n",
    "                    MenuRow row = menu.get(selection);\n",
    "                    // stop menu\n",
    "                    if (row.getTitle().equals(\"Exit\")) {\n",
    "                        if (scan != null) \n",
    "                            scan.close();  // scanner resource requires release\n",
    "                        return;\n",
    "                    }\n",
    "                    // run option\n",
    "                    row.run();\n",
    "                } catch (Exception e) {\n",
    "                    System.out.printf(\"Invalid selection %d\\n\", selection);\n",
    "                }\n",
    "\n",
    "            } catch (Exception e) {\n",
    "                System.out.println(\"Not a number\");\n",
    "            }\n",
    "        }\n",
    "    }\n",
    "}\n",
    "Driver.main(null);"
   ]
  },
  {
   "cell_type": "code",
   "execution_count": 70,
   "metadata": {
    "vscode": {
     "languageId": "java"
    }
   },
   "outputs": [],
   "source": [
    "\n",
    "public class DoNothingByValue {\n",
    "    public int[] arr;\n",
    "    public int val;\n",
    "    public String word;\n",
    "\n",
    "\n",
    "    // changed to show what is happening\n",
    "    public DoNothingByValue (int [] arr, int val, String word) {\n",
    "        this.arr = new int[5];\n",
    "        this.val = 0;\n",
    "        this.word = word.substring(0, 5);\n",
    "\n",
    "        System.out.print(\"constructor: \");\n",
    "        for (int k = 0; k < arr.length; k++) {\n",
    "            arr[k] = 0;                          // int array is initialized to 0's, not needed\n",
    "            System.out.print(arr[k] + \" \");\n",
    "\n",
    "        }\n",
    "        System.out.println(this.word);\n",
    "\n",
    "    }\n",
    "\n",
    "    // Local instance variables\n",
    "    // IntelliJ shows that something is wrong, calling the values passed as parameters as local\n",
    "    public static void changeIt(int [] arr, int val, String word) {\n",
    "        arr = new int[5];\n",
    "        val = 0;\n",
    "        word = word.substring(0, 5);\n",
    "\n",
    "        System.out.print(\"changeIt: \"); // added\n",
    "        for (int k = 0; k < arr.length; k++) {\n",
    "            arr[k] = 0;\n",
    "            System.out.print(arr[k] + \" \"); // added\n",
    "        }\n",
    "        System.out.println(word);   // added\n",
    "\n",
    "    }\n",
    "\n",
    "    // Variable name are Reference\n",
    "    // names of variables make no difference, they are just references to addresses\n",
    "    public static void changeIt2(int [] nums, int value, String name) {\n",
    "        nums = new int[5];           // new creates new memory address\n",
    "        value = 0;                   // primitives are pass by value\n",
    "        name = name.substring(0, 5); // all wrapper classes have automatic \"new\", same as word = new String(word.substring(0, 5));\n",
    "\n",
    "        // this loop changes nums locally\n",
    "        System.out.print(\"changeIt2: \");\n",
    "        for (int k = 0; k < nums.length; k++) {\n",
    "            nums[k] = 0;\n",
    "            System.out.print(nums[k] + \" \");\n",
    "        }\n",
    "        System.out.println(name);\n",
    "\n",
    "    }\n",
    "\n",
    "\n",
    "    // If you want to change values, think about Return values, but you are limited to one in Java\n",
    "    // changed to show what is happening\n",
    "    public static String changeIt3(int [] arr, String word) {\n",
    "        word = new String(word.substring(0, 5));    // wrapper class does a \"new\" on any assignment\n",
    "\n",
    "        System.out.print(\"changeIt3: \");\n",
    "        for (int k = 0; k < arr.length; k++) {\n",
    "            arr[k] = 0;                          // int array is initialized to 0's, not needed\n",
    "            System.out.print(arr[k] + \" \");\n",
    "\n",
    "        }\n",
    "        System.out.println(word);\n",
    "\n",
    "        return word;\n",
    "    }\n",
    "\n",
    "    // Variable inside of Object Triple are references\n",
    "    public static Triple<int[], Integer, String> changeIt4(Triple<int[], Integer, String> T) {\n",
    "        T.setOne(new int[5]);\n",
    "        T.setTwo(0);                   // primitives are pass by value\n",
    "        T.setThree(T.getThree().substring(0, 5)); // all wrapper classes have automatic \"new\", same as word = new String(word.substring(0, 5));\n",
    "\n",
    "        // this loop changes nums locally\n",
    "        System.out.print(\"changeIt4: \");\n",
    "        for (int i : T.getOne()) {\n",
    "            System.out.print(i + \" \");\n",
    "        }\n",
    "        System.out.println(T.getThree());\n",
    "\n",
    "        return T;\n",
    "    }\n",
    "\n",
    "\n",
    "    // Original method changed to main in order to be a Tester\n",
    "    public static void main(String[] args) {\n",
    "        // Does nothing\n",
    "        int [] nums = {1, 2, 3, 4, 5};\n",
    "        int value = 6;\n",
    "        String name = \"blackboard\";\n",
    "        System.out.println(\"Do Nothings\");\n",
    "        // dumb and useless\n",
    "        changeIt(nums, value, name);\n",
    "        // dumber and useless\n",
    "        changeIt2(nums, value, name);\n",
    "        System.out.print(\"main: \");\n",
    "        for (int k = 0; k < nums.length; k++) {\n",
    "            System.out.print (nums[k] + \" \");\n",
    "        }\n",
    "        System.out.print(value + \" \");\n",
    "        System.out.print(name);\n",
    "\n",
    "        System.out.println();\n",
    "        System.out.println();\n",
    "\n",
    "\n",
    "        // int[] by reference, return value  -- not complete\n",
    "        System.out.println(\"Limited return\");\n",
    "        int[] nums2 = {1, 2, 3, 4, 5};\n",
    "        value = 6;\n",
    "        name = \"limited\";\n",
    "        name = changeIt3(nums2, name);\n",
    "        System.out.print(\"main2: \");\n",
    "        for (int num : nums2) {\n",
    "            System.out.print(num + \" \");\n",
    "        }\n",
    "        System.out.print(value + \" \");\n",
    "        System.out.print(name);\n",
    "\n",
    "        System.out.println();\n",
    "        System.out.println();\n",
    "\n",
    "\n",
    "        // Class/Object\n",
    "        System.out.println(\"Do Something with Class\");\n",
    "        int[] nums3 = {1, 2, 3, 4, 5};\n",
    "        value = 6;\n",
    "        name = \"classy\";\n",
    "        DoNothingByValue doSomething = new DoNothingByValue(nums3, value, name);\n",
    "\n",
    "        System.out.print(\"main3: \");\n",
    "        for (int num : doSomething.arr) {      // should be teaching enhanced for loop on arrays\n",
    "            System.out.print(num + \" \");\n",
    "        }\n",
    "        System.out.print(doSomething.val + \" \");\n",
    "        System.out.print(doSomething.word);\n",
    "\n",
    "        System.out.println();\n",
    "        System.out.println();\n",
    "\n",
    "        // Generics\n",
    "        System.out.println(\"Do Something with Generics\");\n",
    "        int[] nums4 = {1, 2, 3, 4, 5};\n",
    "        value = 6;\n",
    "        name = \"generics\";\n",
    "        Triple<int[],Integer,String> tri = changeIt4(new Triple<>(nums4, value, name));\n",
    "\n",
    "        System.out.print(\"main: \");\n",
    "        for (int num : tri.getOne())\n",
    "            System.out.print (num + \" \");\n",
    "\n",
    "        System.out.print(tri.getTwo() + \" \");\n",
    "        System.out.print(tri.getThree());\n",
    "    }\n",
    "\n",
    "}\n",
    "\n",
    "// This class can be used to pass variables by reference\n"
   ]
  },
  {
   "cell_type": "code",
   "execution_count": 69,
   "metadata": {
    "vscode": {
     "languageId": "java"
    }
   },
   "outputs": [],
   "source": [
    "class Triple<T1, T2, T3> {\n",
    "    T1 one;\n",
    "    T2 two;\n",
    "    T3 three;\n",
    "\n",
    "    Triple(T1 one, T2 two, T3 three) {\n",
    "        this.one = one;\n",
    "        this.two = two;\n",
    "        this.three = three;\n",
    "    }\n",
    "\n",
    "    public T1 getOne() { return this.one; }\n",
    "    public void setOne(T1 one) { this.one = one; }\n",
    "\n",
    "    public T2 getTwo() { return this.two; }\n",
    "    public void setTwo(T2 two) { this.two = two; }\n",
    "\n",
    "    public T3 getThree() { return this.three; }\n",
    "    public void setThree(T3 three) { this.three = three; }\n",
    "}"
   ]
  },
  {
   "cell_type": "code",
   "execution_count": 72,
   "metadata": {
    "vscode": {
     "languageId": "java"
    }
   },
   "outputs": [],
   "source": [
    "\n",
    "public class IntByReference {\n",
    "    private int value;\n",
    "\n",
    "    public IntByReference(Integer value) {\n",
    "        this.value = value;\n",
    "    }\n",
    "\n",
    "    public String toString() {\n",
    "        return (String.format(\"%d\", this.value));\n",
    "    }\n",
    "\n",
    "    public void swapToLowHighOrder(IntByReference i) {\n",
    "        if (this.value > i.value) {\n",
    "            int tmp = this.value;\n",
    "            this.value = i.value;\n",
    "            i.value = tmp;\n",
    "        }\n",
    "    }\n",
    "\n",
    "    public static void swapper(int n0, int n1) {\n",
    "        IntByReference a = new IntByReference(n0);\n",
    "        IntByReference b = new IntByReference(n1);\n",
    "        System.out.println(\"Before: \" + a + \" \" + b);\n",
    "        a.swapToLowHighOrder(b);  // conditionally build swap method to change values of a, b\n",
    "        System.out.println(\"After: \" + a + \" \" + b);\n",
    "        System.out.println();\n",
    "    }\n",
    "\n",
    "    public static void main(String[] ags) {\n",
    "        IntByReference.swapper(21, 16);\n",
    "        IntByReference.swapper(16, 21);\n",
    "        IntByReference.swapper(16, -1);\n",
    "    }\n",
    "\n",
    "}"
   ]
  },
  {
   "cell_type": "code",
   "execution_count": 74,
   "metadata": {
    "vscode": {
     "languageId": "java"
    }
   },
   "outputs": [],
   "source": [
    "\n",
    "// matrix class is used to store and format the output of a matrix\n",
    "public class Matrix {\n",
    "    private final int[][] matrix;\n",
    "\n",
    "    // store matrix\n",
    "    public Matrix(int[][] matrix) {\n",
    "        this.matrix = matrix;\n",
    "    }\n",
    "\n",
    "    // nest for loops to format output of a matrix\n",
    "    public String toString() {\n",
    "        // construct output of matrix using for loops\n",
    "        // outer loop for row\n",
    "        StringBuilder output = new StringBuilder();\n",
    "        for (int[] row : matrix) {\n",
    "            // inner loop for column\n",
    "            for (int cell : row) {\n",
    "                output.append((cell==-1) ? \" \" : String.format(\"%x\",cell)).append(\" \");\n",
    "            }\n",
    "            output.append(\"\\n\"); // new line\n",
    "        }\n",
    "        return output.toString();\n",
    "    }\n",
    "\n",
    "    // print it backwards matrix\n",
    "    public String reverse() {\n",
    "        // outer loop starting at end row\n",
    "        StringBuilder output = new StringBuilder();\n",
    "        for (int i = matrix.length;  0 < i; i--) {\n",
    "            // inner loop for column\n",
    "            for (int j =  matrix[i-1].length; 0 < j; j--) {\n",
    "                output.append((matrix[i-1][j-1]==-1) ? \" \" : String.format(\"%x\",matrix[i-1][j-1])).append(\" \");\n",
    "            }\n",
    "            output.append(\"\\n\"); // new line\n",
    "        }\n",
    "        return output.toString();\n",
    "    }\n",
    "\n",
    "    // declare and initialize a matrix for a keypad\n",
    "    static int[][] keypad() {\n",
    "        return new int[][]{ { 1, 2, 3 }, { 4, 5, 6 }, { 7, 8, 9 }, {-1, 0, -1} };\n",
    "    }\n",
    "\n",
    "    // declare and initialize a random length arrays\n",
    "    static int[][] numbers() {\n",
    "        return new int[][]{ { 0, 1 },\n",
    "                { 0, 1, 2, 3, 4, 5, 6, 7, 8, 9 },\n",
    "                { 0, 1, 2, 3, 4, 5, 6, 7, 8, 9, 10, 11, 12, 13, 14, 15 } };\n",
    "    }\n",
    "\n",
    "    // tester method for matrix formatting\n",
    "    public static void main(String[] args) {\n",
    "        Matrix m0 = new Matrix(keypad());\n",
    "        System.out.println(\"Keypad:\");\n",
    "        System.out.println(m0);\n",
    "        System.out.println(m0.reverse());\n",
    "\n",
    "\n",
    "        Matrix m1 = new Matrix(numbers());\n",
    "        System.out.println(\"Numbers Systems:\");\n",
    "        System.out.println(m1);\n",
    "        System.out.println(m1.reverse());\n",
    "\n",
    "    }\n",
    "\n",
    "}\n"
   ]
  },
  {
   "cell_type": "code",
   "execution_count": 76,
   "metadata": {
    "vscode": {
     "languageId": "java"
    }
   },
   "outputs": [],
   "source": [
    "\n",
    "import java.util.ArrayList;\n",
    "\n",
    "// Write a Class Number\n",
    "public class Number {\n",
    "    private String title = \"Number\";\n",
    "    private String counter = \"Index\";\n",
    "    private static int COUNT = 0;\n",
    "    private final int number;\n",
    "    private final int index;\n",
    "\n",
    "    // Number has a zero Argument constructor\n",
    "    // It initializes a random number between 3 and 36, ie the number of squirrels in class\n",
    "    public Number() {\n",
    "        int SIZE = 36; int MIN = 3; int RANGE = SIZE - MIN + 1;  // constants for initialization\n",
    "        this.number = (int)(Math.random()*RANGE) + MIN;  // observe RANGE calculation and MIN offset\n",
    "        this.index = Number.COUNT++;    // observe use of Class variable COUNT and post increment\n",
    "    }\n",
    "\n",
    "    // It contains a getter for the Random Number\n",
    "    public int getNumber() {\n",
    "        return this.number;\n",
    "    }\n",
    "\n",
    "    // It contains a getter for Index, or the order it was initialized\n",
    "    public int getIndex() {\n",
    "        return this.index;\n",
    "    }\n",
    "\n",
    "    // Make a setter to title the Random Number\n",
    "    public void setTitle(String title) { this.title = title; }\n",
    "\n",
    "    // Make a setter to name the Counter\n",
    "    public void setCounter(String counter) { this.counter = counter; }\n",
    "\n",
    "    // toString method for formatted output, this was not in requirement but is critical knowledge\n",
    "    public String toString() {\n",
    "        return this.title + \": \" + this.getNumber() + \" \" + this.counter + \": \" + this.getIndex();\n",
    "    }\n",
    "\n",
    "    // Write a tester method\n",
    "    public static void main(String[] args) {\n",
    "\n",
    "        // Create an ArrayList of Type Number, the ArrayList is called squirrels\n",
    "        ArrayList<Number> squirrels = new ArrayList<>();\n",
    "\n",
    "        // Initialize 10 squirrels of class type Number\n",
    "        // Insert Number Object into ArrayList Squirrels in least to the greatest order using getNumber()\n",
    "        final int SQUIRRELS = 10;\n",
    "        for (int i = 0; i < SQUIRRELS; i++) {\n",
    "            Number num = new Number();\n",
    "            num.setTitle(\"Squirrels\");\n",
    "            num.setCounter(\"Days\");\n",
    "            // Insert in ordered position, this avoids sort algorithm\n",
    "            for (int j = 0; true; j++) {\n",
    "                // Conditions to insert\n",
    "                if ((squirrels.size() == j) // empty or at end of list\n",
    "                        || (num.getNumber() < squirrels.get(j).getNumber()) )  // less than current\n",
    "                {\n",
    "                    /* The java.util.ArrayList.add(int index, Object)\n",
    "                       method inserts the specified object at the specified position in this list.\n",
    "                       This is overload of the common java.util.ArrayList.add(Object)\n",
    "                    */\n",
    "                    squirrels.add(j, num); // insert in \"j\" position\n",
    "                    break;  // break forever loop when inserted\n",
    "                }\n",
    "            }\n",
    "        }\n",
    "\n",
    "        // Added total/average, not in requirements\n",
    "        int total = 0;\n",
    "        for (Number squirrel : squirrels) {\n",
    "            // Print a formatted message with number of Squirrels and Index\n",
    "            System.out.println(squirrel);  // prints Object using toString() method\n",
    "            total += squirrel.getNumber(); // running total, not in requirements\n",
    "        }\n",
    "        // Integer division requires cast for precision\n",
    "        System.out.println(\"Total random squirrels: \" + total + \", Number of days: \" + squirrels.size());\n",
    "        System.out.println(\"Average squirrels per day: \" + total / (double) squirrels.size());\n",
    "    }\n",
    "\n",
    "}\n"
   ]
  },
  {
   "attachments": {},
   "cell_type": "markdown",
   "metadata": {},
   "source": [
    "## 2022 FRQ #3\n",
    "Users of a website are asked to provide a review of the website at the end of each visit. Each review, represented by an object of the Review class, consists of an integer indicating the user’s rating of the website and an optional String comment field. The comment field in a Review object ends with a period (\".\"), exclamation point (\"!\"), or letter, or is a String of length 0 if the user did not enter a comment.\n",
    "\n"
   ]
  },
  {
   "cell_type": "code",
   "execution_count": null,
   "metadata": {
    "vscode": {
     "languageId": "java"
    }
   },
   "outputs": [],
   "source": [
    "public class Review { \n",
    "    private int rating; \n",
    "    private String comment; \n",
    "\n",
    "    /** Precondition: r >= 0 * c is not null. */ \n",
    "    public Review(int r, String c) { \n",
    "        rating = r; \n",
    "        comment = c; \n",
    "    } \n",
    "    public int getRating() { \n",
    "        return rating; \n",
    "    } \n",
    "    public String getComment() { \n",
    "        return comment; \n",
    "    } \n",
    "    // There may be instance variables, constructors, and methods that are not shown. \n",
    "}"
   ]
  },
  {
   "attachments": {},
   "cell_type": "markdown",
   "metadata": {},
   "source": [
    "The ReviewAnalysis class contains methods used to analyze the reviews provided by users. You will write two methods of the ReviewAnalysis class"
   ]
  },
  {
   "cell_type": "code",
   "execution_count": null,
   "metadata": {
    "vscode": {
     "languageId": "java"
    }
   },
   "outputs": [],
   "source": [
    "public class ReviewAnalysis {\n",
    "    /** All user reviews to be included in this analysis */ \n",
    "    private Review[] allReviews; \n",
    "\n",
    "    /** Initializes allReviews to contain all the Review objects to be analyzed */ \n",
    "    public ReviewAnalysis() {\n",
    "         /* implementation not shown */ \n",
    "        } \n",
    "    \n",
    "    /** Returns a double representing the average rating of all the Review objects to be * analyzed, as described in part (a) \n",
    "     * * Precondition: allReviews contains at least one Review. \n",
    "     * * No element of allReviews is null. */ \n",
    "    public double getAverageRating() {\n",
    "         /* to be implemented in part (a) */ \n",
    "        } \n",
    "    \n",
    "    /** Returns an ArrayList of String objects containing formatted versions of \n",
    "     * * selected user comments, as described in part (b) \n",
    "     * * Precondition: allReviews contains at least one Review. * \n",
    "     * No element of allReviews is null. * \n",
    "     * Postcondition: allReviews is unchanged. */ \n",
    "    \n",
    "    public ArrayList<String> collectComments() {\n",
    "         /* to be implemented in part (b) */ \n",
    "        } \n",
    "    }"
   ]
  },
  {
   "attachments": {},
   "cell_type": "markdown",
   "metadata": {},
   "source": [
    "a. Write the ReviewAnalysis method getAverageRating, which returns the average rating (arithmetic mean) of all elements of allReviews. For example, getAverageRating would return 3.4 if allReviews contained the following Review objects."
   ]
  },
  {
   "cell_type": "code",
   "execution_count": null,
   "metadata": {
    "vscode": {
     "languageId": "java"
    }
   },
   "outputs": [],
   "source": [
    "public double getAverageRating() {\n",
    "   // The total amount of each individual reviews\n",
    "\n",
    "   int reviewTotal = 0;\n",
    "\n",
    "   // The total amount of reviews in the array allReviews\n",
    "\n",
    "   int reviewAmount = 0;\n",
    "\n",
    "   // Loops through every review in the arry allReviews\n",
    "\n",
    "   for (Review rating : allReviews) {\n",
    "      // gets the specific rating value and adds it to the total\n",
    "      reviewTotal = reviewTotal + rating.getRating();\n",
    "\n",
    "      // add ones to the total amount of reviews\n",
    "      reviewAmount = reviewAmount + 1;\n",
    "   }\n",
    "   \n",
    "\n",
    "   // creates the average which should be a double since there are decimals needed\n",
    "   double averageRating = reviewTotal/reviewAmount;\n",
    "   return averageRating;\n",
    "} "
   ]
  },
  {
   "attachments": {},
   "cell_type": "markdown",
   "metadata": {},
   "source": [
    "b. Write the ReviewAnalysis method collectComments, which collects and formats only comments that contain an exclamation point. The method returns an ArrayList of String objects containing copies of user comments from allReviews that contain an exclamation point, formatted as follows. An empty ArrayList is returned if no comment in allReviews contains an exclamation point. \n",
    "- The String inserted into the ArrayList to be returned begins with the index of the Review in allReviews. \n",
    "- The index is immediately followed by a hyphen (\"-\"). \n",
    "- The hyphen is followed by a copy of the original comment. \n",
    "- The String must end with either a period or an exclamation point. If the original comment from allReviews does not end in either a period or an exclamation point, a period is added.\n",
    "\n",
    "\n",
    "The following ArrayList would be returned by a call to collectComments with the given contents of allReviews. The reviews at index 1 and index 4 in allReviews are not included in the ArrayList to return since neither review contains an exclamation point.\n",
    "\n",
    "\n",
    "Complete method collectComments. \n",
    "/** Returns an ArrayList of String objects containing formatted versions of \n",
    " selected user comments, as described in part (b) \n",
    " Precondition: allReviews contains at least one Review. \n",
    " No element of allReviews is null. \n",
    " Postcondition: allReviews is unchanged. */ "
   ]
  },
  {
   "cell_type": "code",
   "execution_count": null,
   "metadata": {
    "vscode": {
     "languageId": "java"
    }
   },
   "outputs": [],
   "source": [
    "public ArrayList<String> collectComments() {\n",
    "    // arraylist for strings of reviews that are formatted and contain exclaimation points\n",
    "    ArrayList<String> commentsArray = new ArrayList<String>();\n",
    "\n",
    "    // loops through each review\n",
    "    for (Review rating : allReviews) {\n",
    "        // to keep track of the number that should be in front of the formatted comment\n",
    "        count = 0;\n",
    "\n",
    "        // get a comment from allReviews\n",
    "        String comment = rating.getComment();\n",
    "\n",
    "        // if there is an index of an ! in the string then it will be counted and make the if conditional true\n",
    "        if (comment.indexOf(\"!\") >= 0) {\n",
    "            \n",
    "            // correct formatting of the comment as a new String\n",
    "            String newComment = count + \"-\" + comment;\n",
    "\n",
    "            //creates lastChar, which stores the last character in the formatted string\n",
    "            String lastChar = newComment.substring(newComment.length() - 1);\n",
    "\n",
    "            // checks if there is any punctuation at the end of the string\n",
    "            if ( (!lastChar.equals(\"!\")) && (!lastChar.equals(\".\"))) {\n",
    "                // If there is no punctuation then a period is added at the end\n",
    "                newComment = newComment + \".\";\n",
    "\n",
    "                // adds the comment to the array\n",
    "                commentsArray.add(newComment);\n",
    "            }\n",
    "\n",
    "        }\n",
    "        count++;\n",
    "    }    \n",
    "    return commentsArray;\n",
    "}"
   ]
  },
  {
   "attachments": {},
   "cell_type": "markdown",
   "metadata": {},
   "source": [
    "### Quiz Corrections\n",
    "\n",
    "| Question | Answer I Chose | Correct Answer | Explanation                                                                                                                                                                                                                                                        |\n",
    "|----------|----------------|----------------|--------------------------------------------------------------------------------------------------------------------------------------------------------------------------------------------------------------------------------------------------------------------|\n",
    "| 9        | c              | e              | The answer I chose only selects from 0-10 and once multiplied by 6, it only generates values from 0 to 5. This is incorrect because we needed values from 2-12. This question is from Unit 2 and I think I would need to study the built in Math.random() method.  |\n",
    "| 13       | b              | a              | The answer I chose would be the result if the loop incremented by 1 instead of 3. I got this question wrong because I think I didn't take enough time to look through each line and make notes about what is happening in each loop.                               |\n",
    "| 21       | d              | e              | I knew what the code was doing but I just selected the wrong answer choice.                                                                                                                                                                                        |\n",
    "| 23       | d              | c              | I was confused by what the algorithm was doing and selected the wrong choice. This is unit 6 which covers traversing arrays, so I think I need to get better at paying attention to what is happening in each loop.                                                |\n",
    "| 24       | a              | d              | I did the opposite of what the question was asking, I picked which option would create a compile0time error instead of which one did.                                                                                                                              |\n",
    "| 37       | b              | e              | I understood this question partially. Again it was another question with a lot of loops, so I needed to pay attention more.                                                                                                                                        |"
   ]
  }
 ],
 "metadata": {
  "kernelspec": {
   "display_name": "Java",
   "language": "java",
   "name": "java"
  },
  "language_info": {
   "codemirror_mode": "java",
   "file_extension": ".jshell",
   "mimetype": "text/x-java-source",
   "name": "Java",
   "pygments_lexer": "java",
   "version": "17.0.5+8-Ubuntu-2ubuntu120.04"
  },
  "orig_nbformat": 4
 },
 "nbformat": 4,
 "nbformat_minor": 2
}
