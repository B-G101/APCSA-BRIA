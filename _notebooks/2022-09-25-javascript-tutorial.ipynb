{
 "cells": [
  {
   "cell_type": "markdown",
   "metadata": {},
   "source": [
    "# JavaScript Tutorial\n",
    "> Unit 4 // AP CSA\n",
    "\n",
    "- toc: true \n",
    "- badges: true\n",
    "- comments: true\n",
    "- categories: [jupyter,unit4]\n",
    "- image: images/chart-preview.png"
   ]
  },
  {
   "cell_type": "code",
   "execution_count": 3,
   "metadata": {},
   "outputs": [
    {
     "name": "stdout",
     "output_type": "stream",
     "text": [
      "Looking at dynamic nature of types in JavaScript\n",
      "string ; hello\n",
      "number ; 2020\n",
      "object ; [ 1, 2, 3 ]\n"
     ]
    }
   ],
   "source": [
    "function logItType(output) {\n",
    "    console.log(typeof output, \";\", output);\n",
    "}\n",
    "console.log(\"Looking at dynamic nature of types in JavaScript\")\n",
    "logItType(\"hello\"); // String\n",
    "logItType(2020);    // Number\n",
    "logItType([1, 2, 3]);  // Object is generic for this Array, which similar to Python List"
   ]
  },
  {
   "cell_type": "code",
   "execution_count": 4,
   "metadata": {},
   "outputs": [
    {
     "data": {
      "text/plain": [
       "'Goodbye!'"
      ]
     },
     "execution_count": 4,
     "metadata": {},
     "output_type": "execute_result"
    }
   ],
   "source": [
    "$$.async();\n",
    "\n",
    "console.log(\"Hello, World!\");\n",
    "\n",
    "var action = {\n",
    "    $$: $$,\n",
    "    console: console,\n",
    "};\n",
    "\n",
    "setTimeout(function() {\n",
    "    $$.clear(0);    // clear output cell\n",
    "    action.$$.sendResult(\"Goodbye!\");\n",
    "}, 2000);  // 2 second timer"
   ]
  },
  {
   "cell_type": "code",
   "execution_count": 13,
   "metadata": {},
   "outputs": [
    {
     "data": {
      "text/html": [
       "<div style='display:inline-block;padding:0.25em;background:#ccc;border: 1px solid #888;border-radius:0.25em;box-shadow: 0.8em 0.4em 0.4em black;'>Person named Peter</div>"
      ],
      "text/plain": [
       "Person named Peter"
      ]
     },
     "execution_count": 13,
     "metadata": {},
     "output_type": "execute_result"
    }
   ],
   "source": [
    "Person.prototype._toHtml = function _toHtml() {\n",
    "  var style = (\n",
    "      \"display:inline-block;\" +\n",
    "      \"padding:0.25em;\" +\n",
    "      \"background:#ccc;\" +\n",
    "      \"border: 1px solid #888;\" +\n",
    "      \"border-radius:0.25em;\" +\n",
    "      \"box-shadow: 0.8em 0.4em 0.4em black;\"\n",
    "  );\n",
    "  return (\n",
    "      \"<div style='\" + style + \"'>\" +\n",
    "      this.inspect() +\n",
    "      \"</div>\"\n",
    "  );\n",
    "};\n",
    "\n",
    "peter;"
   ]
  }
 ],
 "metadata": {
  "kernelspec": {
   "display_name": "JavaScript (Node.js)",
   "language": "javascript",
   "name": "javascript"
  },
  "language_info": {
   "file_extension": ".js",
   "mimetype": "application/javascript",
   "name": "javascript",
   "version": "10.19.0"
  },
  "orig_nbformat": 4
 },
 "nbformat": 4,
 "nbformat_minor": 2
}
