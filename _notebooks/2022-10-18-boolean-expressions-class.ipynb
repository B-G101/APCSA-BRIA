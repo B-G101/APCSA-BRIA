{
 "cells": [
  {
   "cell_type": "markdown",
   "metadata": {},
   "source": [
    "# Boolean Expressions and If Statements Class Lesson\n",
    "> Unit 3 // AP CSA\n",
    "\n",
    "- toc: true \n",
    "- badges: true\n",
    "- comments: true\n",
    "- categories: [jupyter,unit3]\n",
    "- image: images/chart-preview.png"
   ]
  },
  {
   "cell_type": "markdown",
   "metadata": {},
   "source": [
    "# Notes\n",
    "Switch statement\n",
    "- more effcient way of doing an if else statement with multiple conditions\n",
    "- boolean expression must contain the same type of data being compared for it to work properly \n",
    "- == is comparioson\n",
    "- = which is assignment\n",
    "- || or\n",
    "- && and\n",
    "- booleans cannot be used to compare strings, strings can only be compared by using methods for strings\n",
    "- logic gates: yes, not, and , nand, or, nor, xnor \n",
    "- demorgans law"
   ]
  },
  {
   "cell_type": "code",
   "execution_count": null,
   "metadata": {
    "vscode": {
     "languageId": "java"
    }
   },
   "outputs": [],
   "source": [
    "private int getChargingCost(int startHour, int chargeTime){\n",
    "   int totalCost = rateTable[startHour] * chargeTime;\n",
    "   return totalCost\n",
    "}"
   ]
  }
 ],
 "metadata": {
  "language_info": {
   "name": "python"
  },
  "orig_nbformat": 4
 },
 "nbformat": 4,
 "nbformat_minor": 2
}
