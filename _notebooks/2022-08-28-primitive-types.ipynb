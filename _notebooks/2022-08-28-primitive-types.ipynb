{
 "cells": [
  {
   "cell_type": "markdown",
   "metadata": {},
   "source": [
    "# Primitive Types\n",
    "> Unit 1 // AP CSA\n",
    "\n",
    "- toc: true \n",
    "- badges: true\n",
    "- comments: true\n",
    "- categories: [jupyter]\n",
    "- image: images/chart-preview.png"
   ]
  },
  {
   "cell_type": "markdown",
   "metadata": {},
   "source": [
    "Test cell"
   ]
  },
  {
   "cell_type": "code",
   "execution_count": null,
   "metadata": {},
   "outputs": [],
   "source": [
    "public class Primitives {\n",
    "  public static void main(String[] args) {\n",
    "    int x = 5;\n",
    "    double z = 9.88;\n",
    "    boolean w = true;\n",
    "    System.out.println(x);\n",
    "    System.out.println(z);\n",
    "    System.out.println(w);\n",
    "    }\n",
    "}\n",
    "Primitives.main(null);"
   ]
  },
  {
   "cell_type": "code",
   "execution_count": null,
   "metadata": {},
   "outputs": [],
   "source": [
    "import java.util.Scanner; // Import the Scanner class\n",
    "\n",
    "public class TemperatureConverter { // Defining the main\n",
    "    public static void main(String[] arg){\n",
    "        Scanner inputTemp = new Scanner(System.in);\n",
    "        \n",
    "        System.out.println(\"Enter a temperature\");\n",
    "\n",
    "        int tempInt = inputTemp.nextInt(); // Stores as an integer\n",
    "\n",
    "        Scanner tempTypeinput = new Scanner(System.in);\n",
    "        System.out.println(\"Is it in Fahrenheit or Celsius. Type C for Celsius or F for Fahrenheit.\");\n",
    "        String tempType = tempTypeinput.nextLine(); // Stores as a string\n",
    "\n",
    "        if (tempType.equals(\"C\")){\n",
    "           double convertedTemp = tempInt * 1.8; // Double is appropriate here because decimals are needed\n",
    "           double convertedTempF = convertedTemp + 32;\n",
    "           System.out.println(\"Celsius: \" + tempInt + \"°C and Fahrenheit: \" + convertedTempF + \"°F\");\n",
    "        } \n",
    "        if (tempType.equals(\"F\")) {\n",
    "           double convertedTemp = tempInt - 32;\n",
    "           double convertedTempC = convertedTemp/1.8; // Double is appropriate here because decimals are needed\n",
    "           System.out.println(\"Fahrenheit: \" + tempInt + \"°F and Celsius: \" + convertedTempC + \"°C\");\n",
    "        }\n",
    "        else{\n",
    "            System.out.println(\"Not a valid imput\");\n",
    "        }\n",
    "    }\n",
    "}\n",
    "\n",
    "TemperatureConverter.main(null);"
   ]
  }
 ],
 "metadata": {
  "kernelspec": {
   "display_name": "Java",
   "language": "java",
   "name": "java"
  },
  "language_info": {
   "name": "java",
   "version": "3.9.6"
  },
  "orig_nbformat": 4,
  "vscode": {
   "interpreter": {
    "hash": "b81c042e1a20d86715935838136f5d7f2d53b40ef534733681549c4f3039eb7a"
   }
  }
 },
 "nbformat": 4,
 "nbformat_minor": 2
}
