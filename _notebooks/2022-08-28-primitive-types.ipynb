{
 "cells": [
  {
   "cell_type": "markdown",
   "metadata": {},
   "source": [
    "# Primitive Types\n",
    "> Unit 1 // AP CSA\n",
    "\n",
    "- toc: true \n",
    "- badges: true\n",
    "- comments: true\n",
    "- categories: [jupyter]\n",
    "- image: images/chart-preview.png"
   ]
  },
  {
   "cell_type": "markdown",
   "metadata": {},
   "source": [
    "## Table of Contents\n",
    "\n",
    "| Topic | Link |\n",
    "|---|---|\n"
   ]
  },
  {
   "cell_type": "markdown",
   "metadata": {},
   "source": [
    "### Primitives Notes\n",
    "\n",
    "Python\n",
    "- weakly type language\n",
    "- don't have to specifiy type of data, ie double quote for string\n",
    "\n",
    "Java\n",
    "- strongy type language\n",
    "- requires you to think about it more and which type of data it is\n",
    "\n",
    "Java C and Java\n",
    "- Java C executes then Java executes then the program runs\n",
    "\n",
    "Data Tyes\n",
    "- Data types with a captial letter are primitives are lowercase\n",
    "- Data types with a lowercase letter are wrappers\n",
    "\n",
    "- Primitives are just the numbers assigned to memory\n",
    "- primitives are built in\n",
    "\n",
    "- Wrappers are classes and have methods, getters, and setters\n",
    "- has built in code with it that can do more stuff\n",
    "- to compare two strings you can use \".equals\"\n",
    "- methods are code associated with the type\n",
    "- string is basically an object\n",
    "- not built in has to be declared"
   ]
  },
  {
   "cell_type": "markdown",
   "metadata": {},
   "source": [
    "### Primitive Hacks\n",
    "- Define in a class the following data types\n",
    "     - Demonstrate use of Primitives: int, double, boolean, string"
   ]
  },
  {
   "cell_type": "code",
   "execution_count": 1,
   "metadata": {
    "vscode": {
     "languageId": "java"
    }
   },
   "outputs": [
    {
     "name": "stdout",
     "output_type": "stream",
     "text": [
      "5\n",
      "9.88\n",
      "true\n"
     ]
    }
   ],
   "source": [
    "#collapse-output\n",
    "public class Primitives {\n",
    "  public static void main(String[] args) {\n",
    "    int x = 5;\n",
    "    double z = 9.88;\n",
    "    boolean w = true;\n",
    "    System.out.println(x);\n",
    "    System.out.println(z);\n",
    "    System.out.println(w);\n",
    "    }\n",
    "}\n",
    "Primitives.main(null);"
   ]
  },
  {
   "cell_type": "markdown",
   "metadata": {},
   "source": [
    "- Demonstrate use of Wrapper Class object: String"
   ]
  },
  {
   "cell_type": "code",
   "execution_count": null,
   "metadata": {
    "vscode": {
     "languageId": "java"
    }
   },
   "outputs": [],
   "source": [
    "#hide_input\n",
    "public class Wrappers {\n",
    "    public static void main(String[] arg){\n",
    "        String y = \"Hello\";\n",
    "        System.out.println(y);\n",
    "        String z = new String(\"Hello World\");\n",
    "        System.out.println(z);\n",
    "    }\n",
    "\n",
    "}\n",
    "Wrappers.main(null);"
   ]
  },
  {
   "cell_type": "markdown",
   "metadata": {},
   "source": [
    "- Perform arithmetic expressions and assignment in a program code Code.org Lesson"
   ]
  },
  {
   "cell_type": "code",
   "execution_count": 5,
   "metadata": {
    "vscode": {
     "languageId": "java"
    }
   },
   "outputs": [
    {
     "name": "stdout",
     "output_type": "stream",
     "text": [
      "7.5\n"
     ]
    }
   ],
   "source": [
    "public class Math{\n",
    "    public static void main(String[] args){\n",
    "        int a = 3;\n",
    "        int b = 10;\n",
    "        double c = 2.5;\n",
    "        c = 2 * a - 15 / b + c;\n",
    "        System.out.println(c);\n",
    "    }\n",
    "}\n",
    "Math.main(null);"
   ]
  },
  {
   "cell_type": "markdown",
   "metadata": {},
   "source": [
    "- Describe in comments how each data type choice is appropriate to application\n",
    "- Determine what is result in a variable as a result of an data type and expression"
   ]
  },
  {
   "cell_type": "code",
   "execution_count": 4,
   "metadata": {
    "vscode": {
     "languageId": "java"
    }
   },
   "outputs": [
    {
     "name": "stdout",
     "output_type": "stream",
     "text": [
      "Enter a temperature\n",
      "Is it in Fahrenheit or Celsius. Type C for Celsius or F for Fahrenheit.\n",
      "Celsius: 0°C and Fahrenheit: 32.0°F\n"
     ]
    }
   ],
   "source": [
    "import java.util.Scanner; // Import the Scanner class\n",
    "\n",
    "public class TemperatureConverter { // Defining the main\n",
    "    public static void main(String[] arg){\n",
    "        Scanner inputTemp = new Scanner(System.in);\n",
    "        \n",
    "        System.out.println(\"Enter a temperature\");\n",
    "\n",
    "        int tempInt = inputTemp.nextInt(); // Stores as an integer. \n",
    "\n",
    "        Scanner tempTypeinput = new Scanner(System.in);\n",
    "        System.out.println(\"Is it in Fahrenheit or Celsius. Type C for Celsius or F for Fahrenheit.\");\n",
    "        String tempType = tempTypeinput.nextLine(); // Stores as a string\n",
    "\n",
    "        if (tempType.equals(\"C\")){\n",
    "           double convertedTemp = tempInt * 1.8; // Double is appropriate here because decimals are needed\n",
    "           double convertedTempF = convertedTemp + 32;\n",
    "           System.out.println(\"Celsius: \" + tempInt + \"°C and Fahrenheit: \" + convertedTempF + \"°F\");\n",
    "        } \n",
    "        if (tempType.equals(\"F\")) {\n",
    "           double convertedTemp = tempInt - 32;\n",
    "           double convertedTempC = convertedTemp/1.8; // Double is appropriate here because decimals are needed\n",
    "           System.out.println(\"Fahrenheit: \" + tempInt + \"°F and Celsius: \" + convertedTempC + \"°C\");\n",
    "        }\n",
    "    }\n",
    "}\n",
    "\n",
    "TemperatureConverter.main(null);"
   ]
  },
  {
   "cell_type": "markdown",
   "metadata": {},
   "source": [
    "- Perform an arithmetic expressions that uses casting, add comments that show how it produces desired results"
   ]
  },
  {
   "cell_type": "code",
   "execution_count": 10,
   "metadata": {
    "vscode": {
     "languageId": "java"
    }
   },
   "outputs": [
    {
     "name": "stdout",
     "output_type": "stream",
     "text": [
      "11.5\n",
      "11\n",
      "2.75\n",
      "3\n",
      "Enter a decimal to be rounded\n",
      "7\n"
     ]
    }
   ],
   "source": [
    "// Casting temporary treats on variable of a data type as another data type\n",
    "\n",
    "public class Math{\n",
    "    public static void main(String[] args) {\n",
    "        double a = 6.5 + 5;\n",
    "        System.out.println(a);\n",
    "        System.out.println((int)(a));\n",
    "\n",
    "        double number = 11.0/4;\n",
    "        int roundNumber = (int)(number+0.5);\n",
    "        System.out.println(number);\n",
    "        System.out.println(roundNumber);\n",
    "\n",
    "        Scanner inputNumber = new Scanner(System.in);\n",
    "        \n",
    "        System.out.println(\"Enter a decimal to be rounded\");\n",
    "\n",
    "        double tobeRounded = inputNumber.nextDouble(); // Stores as an double.\n",
    "        \n",
    "        System.out.println((int)(tobeRounded + 0.5));\n",
    "        \n",
    "    }\n",
    "}\n",
    "Math.main(null)"
   ]
  }
 ],
 "metadata": {
  "kernelspec": {
   "display_name": "Java",
   "language": "java",
   "name": "java"
  },
  "language_info": {
   "codemirror_mode": "java",
   "file_extension": ".jshell",
   "mimetype": "text/x-java-source",
   "name": "Java",
   "pygments_lexer": "java",
   "version": "18.0.1.1+2-6"
  },
  "orig_nbformat": 4,
  "vscode": {
   "interpreter": {
    "hash": "b81c042e1a20d86715935838136f5d7f2d53b40ef534733681549c4f3039eb7a"
   }
  }
 },
 "nbformat": 4,
 "nbformat_minor": 2
}
