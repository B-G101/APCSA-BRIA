{
 "cells": [
  {
   "cell_type": "markdown",
   "metadata": {},
   "source": [
    "# Lists and ArrayList\n",
    "> PBL // AP CSA\n",
    "\n",
    "- toc: true \n",
    "- badges: true\n",
    "- comments: true\n",
    "- categories: [jupyter,unit4]\n",
    "- image: images/chart-preview.png"
   ]
  },
  {
   "cell_type": "code",
   "execution_count": 2,
   "metadata": {},
   "outputs": [
    {
     "name": "stdout",
     "output_type": "stream",
     "text": [
      "Current list is []\n",
      "Add more? (y/n)\n",
      "Enter : \n",
      "Current list is [shirt]\n",
      "Add more? (y/n)\n",
      "Enter : \n",
      "Current list is [shirt, pants]\n",
      "Add more? (y/n)\n",
      "Enter : \n",
      "Current list is [shirt, pants, jacket]\n",
      "Add more? (y/n)\n",
      "List is [shirt, pants, jacket]\n",
      "Array is [shirt, pants, jacket]\n"
     ]
    }
   ],
   "source": [
    "import java.util.*;\n",
    "\n",
    "\n",
    "public class WishList {\n",
    "    public static void main(String arg[]){\n",
    "        // create a ArrayList String type\n",
    "        ArrayList<String> wishlist = new ArrayList<String>();\n",
    "        Scanner input = new Scanner(System.in);\n",
    "\n",
    "        do {\n",
    "            System.out.println(\"Current list is \" + wishlist);\n",
    "            System.out.println(\"Add more? (y/n)\");\n",
    "            if (input.next().startsWith(\"y\")) {\n",
    "                System.out.println(\"Enter : \");\n",
    "                Scanner user = new Scanner(System.in);\n",
    "                wishlist.add(user.next());\n",
    "            } else {\n",
    "                break;\n",
    "            }\n",
    "        } while (true);\n",
    "        input.close();\n",
    "        System.out.println(\"List is \" + wishlist);\n",
    "        String[] arr = wishlist.toArray(new String[0]);\n",
    "        System.out.println(\"Array is \" + Arrays.toString(arr));\n",
    "\n",
    "    }\n",
    "}\n",
    "\n",
    "WishList.main(null);"
   ]
  },
  {
   "cell_type": "code",
   "execution_count": 5,
   "metadata": {},
   "outputs": [
    {
     "ename": "CompilationException",
     "evalue": "",
     "output_type": "error",
     "traceback": [
      "\u001b[1m\u001b[30m|   \u001b[1m\u001b[30m                \u001b[0m\u001b[1m\u001b[30m\u001b[41madd\u001b[0m\u001b[1m\u001b[30m(\"pants\");\u001b[0m",
      "\u001b[1m\u001b[31mcannot find symbol\u001b[0m",
      "\u001b[1m\u001b[31m  symbol:   method add(java.lang.String)\u001b[0m",
      "",
      "\u001b[1m\u001b[30m|   \u001b[1m\u001b[30m                \u001b[0m\u001b[1m\u001b[30m\u001b[41madd\u001b[0m\u001b[1m\u001b[30m(\"jeans\");\u001b[0m",
      "\u001b[1m\u001b[31mcannot find symbol\u001b[0m",
      "\u001b[1m\u001b[31m  symbol:   method add(java.lang.String)\u001b[0m",
      "",
      "\u001b[1m\u001b[30m|   \u001b[1m\u001b[30m                \u001b[0m\u001b[1m\u001b[30m\u001b[41madd\u001b[0m\u001b[1m\u001b[30m(\"shirts\");\u001b[0m",
      "\u001b[1m\u001b[31mcannot find symbol\u001b[0m",
      "\u001b[1m\u001b[31m  symbol:   method add(java.lang.String)\u001b[0m",
      "",
      "\u001b[1m\u001b[30m|   \u001b[1m\u001b[30m                \u001b[0m\u001b[1m\u001b[30m\u001b[41madd\u001b[0m\u001b[1m\u001b[30m(\"helmet\");\u001b[0m",
      "\u001b[1m\u001b[31mcannot find symbol\u001b[0m",
      "\u001b[1m\u001b[31m  symbol:   method add(java.lang.String)\u001b[0m",
      "",
      "\u001b[1m\u001b[30m|   \u001b[1m\u001b[30m                \u001b[0m\u001b[1m\u001b[30m\u001b[41madd\u001b[0m\u001b[1m\u001b[30m(\"headphones\");\u001b[0m",
      "\u001b[1m\u001b[31mcannot find symbol\u001b[0m",
      "\u001b[1m\u001b[31m  symbol:   method add(java.lang.String)\u001b[0m",
      "",
      "\u001b[1m\u001b[30m|   \u001b[1m\u001b[30m                for (int i = 0; i < \u001b[0m\u001b[1m\u001b[30m\u001b[41mwishlist.length\u001b[0m\u001b[1m\u001b[30m(); i++){\u001b[0m",
      "\u001b[1m\u001b[31mcannot find symbol\u001b[0m",
      "\u001b[1m\u001b[31m  symbol:   method length()\u001b[0m",
      "",
      "\u001b[1m\u001b[30m|   \u001b[1m\u001b[30m                    if (\u001b[0m\u001b[1m\u001b[30m\u001b[41mwishlist\u001b[0m\u001b[1m\u001b[30m(i) = user){\u001b[0m",
      "\u001b[1m\u001b[31mcannot find symbol\u001b[0m",
      "\u001b[1m\u001b[31m  symbol:   method wishlist(int)\u001b[0m",
      ""
     ]
    }
   ],
   "source": [
    "import java.util.*;\n",
    "\n",
    "public class WishList {\n",
    "    public static void main(String arg[]){\n",
    "        ArrayList<String> wishlist = new ArrayList<String>(){\n",
    "            {\n",
    "                add(\"pants\");\n",
    "                add(\"jeans\");\n",
    "                add(\"shirts\");\n",
    "                add(\"helmet\");\n",
    "                add(\"headphones\");\n",
    "            }\n",
    "        }\n",
    "        Scanner input = new Scanner(System.in);\n",
    "        do {\n",
    "            System.out.println(\"Current list is \" + wishlist);\n",
    "            System.out.println(\"Remove more? (y/n)\");\n",
    "         if (input.next().startsWith(\"y\")) {\n",
    "                System.out.println(\"Remove which value: \");\n",
    "                Scanner user = new Scanner(System.in);\n",
    "                for (int i = 0; i < wishlist.length(); i++){\n",
    "                    if (wishlist(i) = user){\n",
    "                        wishlist.remove(i);\n",
    "                    }\n",
    "                }\n",
    "                \n",
    "            } else {\n",
    "                break;\n",
    "            }\n",
    "        } while (true); \n",
    "\n",
    "    }\n",
    "}\n",
    "\n",
    "WishList.main(null);"
   ]
  }
 ],
 "metadata": {
  "kernelspec": {
   "display_name": "Java",
   "language": "java",
   "name": "java"
  },
  "language_info": {
   "codemirror_mode": "java",
   "file_extension": ".jshell",
   "mimetype": "text/x-java-source",
   "name": "java",
   "pygments_lexer": "java",
   "version": "11.0.16+8-post-Ubuntu-0ubuntu120.04"
  },
  "orig_nbformat": 4
 },
 "nbformat": 4,
 "nbformat_minor": 2
}
