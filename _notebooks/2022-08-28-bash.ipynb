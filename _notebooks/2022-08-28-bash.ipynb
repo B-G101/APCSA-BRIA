{
 "cells": [
  {
   "cell_type": "markdown",
   "metadata": {},
   "source": [
    "# Bash and Checks\n",
    "> Unit 1 // AP CSA\n",
    "\n",
    "- toc: true \n",
    "- badges: true\n",
    "- comments: true\n",
    "- categories: [jupyter,unit1]\n",
    "- image: images/chart-preview.png"
   ]
  },
  {
   "cell_type": "code",
   "execution_count": 1,
   "metadata": {
    "vscode": {
     "languageId": "shellscript"
    }
   },
   "outputs": [
    {
     "name": "stdout",
     "output_type": "stream",
     "text": [
      "Using conditional statement to create a project directory and project\n",
      "Directory /home/briag/vscode exists.\n",
      "Directory /home/briag/vscode/temprepo does not exists... cloning https://github.com/B-G101/temp-repo.git\n",
      "fatal: destination path 'temp-repo' already exists and is not an empty directory.\n",
      "Directory /home/briag/vscode/temprepo exists.\n"
     ]
    }
   ],
   "source": [
    "\n",
    "echo \"Using conditional statement to create a project directory and project\"\n",
    "\n",
    "# Variable section\n",
    "export project_direct=$HOME/vscode  # change vscode to different name to test git clone\n",
    "export project=$project_direct/temprepo  # changed it to an empty repository\n",
    "export project_repo=\"https://github.com/B-G101/temp-repo.git\"  # change to project of choice\n",
    "\n",
    "cd ~    # start in home directory\n",
    "\n",
    "# Conditional block to make a project directory\n",
    "if [ ! -d $project_direct ]\n",
    "then \n",
    "    echo \"Directory $project_direct does not exists... makinng directory $project_direct\"\n",
    "    mkdir -p $project_direct\n",
    "fi\n",
    "echo \"Directory $project_direct exists.\" \n",
    "\n",
    "# Conditional block to git clone a project from project_repo\n",
    "if [ ! -d $project ]\n",
    "then\n",
    "    echo \"Directory $project does not exists... cloning $project_repo\"\n",
    "    cd $project_direct\n",
    "    git clone $project_repo\n",
    "    cd ~\n",
    "fi\n",
    "echo \"Directory $project exists.\""
   ]
  },
  {
   "cell_type": "code",
   "execution_count": 2,
   "metadata": {
    "vscode": {
     "languageId": "shellscript"
    }
   },
   "outputs": [
    {
     "name": "stdout",
     "output_type": "stream",
     "text": [
      "Navigate to project, then navigate to area wwhere files were cloned\n",
      "bash: cd: /home/briag/vscode/temprepo: No such file or directory\n",
      "/home/briag\n",
      "\n",
      "list top level or root of files with project pulled from github\n",
      "Anaconda3-2022.05-Linux-x86_64.sh  \u001b[0m\u001b[01;31mijava-1.3.0.zip\u001b[0m  \u001b[01;34mjava\u001b[0m\n",
      "\u001b[01;34manaconda3\u001b[0m                          install.py       \u001b[01;34mvscode\u001b[0m\n",
      "\n",
      "list again with hidden files pulled from github\n",
      "\u001b[0m\u001b[01;34m.\u001b[0m              .gitconfig   \u001b[01;34m.npm\u001b[0m                               \u001b[01;31mijava-1.3.0.zip\u001b[0m\n",
      "\u001b[01;34m..\u001b[0m             \u001b[01;34m.ipython\u001b[0m     .profile                           install.py\n",
      ".bash_history  \u001b[01;34m.jupyter\u001b[0m     .sudo_as_admin_successful          \u001b[01;34mjava\u001b[0m\n",
      ".bash_logout   \u001b[01;34m.landscape\u001b[0m   \u001b[01;34m.vscode-server\u001b[0m                     \u001b[01;34mvscode\u001b[0m\n",
      ".bashrc        \u001b[01;34m.local\u001b[0m       .wget-hsts\n",
      "\u001b[01;34m.cache\u001b[0m         .motd_shown  Anaconda3-2022.05-Linux-x86_64.sh\n",
      "\u001b[01;34m.conda\u001b[0m         \u001b[01;34m.node-gyp\u001b[0m    \u001b[01;34manaconda3\u001b[0m\n",
      "\n",
      "list all files in long format\n",
      "total 488\n",
      "drwxr-xr-x 16 briag briag   4096 Aug 28 16:35 \u001b[0m\u001b[01;34m.\u001b[0m\n",
      "drwxr-xr-x  5 briag briag   4096 Aug 28 16:35 \u001b[01;34m..\u001b[0m\n",
      "-rw-r--r--  1 briag briag    432 Aug 28 14:16 .devcontainer.json\n",
      "drwxr-xr-x  7 briag briag   4096 Aug 28 16:47 \u001b[01;34m.git\u001b[0m\n",
      "-rw-r--r--  1 briag briag     85 Aug 28 14:16 .gitattributes\n",
      "drwxr-xr-x  4 briag briag   4096 Aug 28 16:35 \u001b[01;34m.github\u001b[0m\n",
      "-rw-r--r--  1 briag briag    175 Aug 28 14:16 .gitignore\n",
      "-rw-r--r--  1 briag briag 207007 Aug 28 14:16 \u001b[01;35m2022-05-15-07-21-16.png\u001b[0m\n",
      "-rw-r--r--  1 briag briag  90979 Aug 28 14:16 \u001b[01;35m2022-05-15-07-24-25.png\u001b[0m\n",
      "-rw-r--r--  1 briag briag  81691 Aug 28 14:16 \u001b[01;35m2022-05-15-07-25-15.png\u001b[0m\n",
      "-rw-r--r--  1 briag briag   1347 Aug 28 14:16 Gemfile\n",
      "-rw-r--r--  1 briag briag  11552 Aug 28 14:16 LICENSE\n",
      "-rw-r--r--  1 briag briag   1475 Aug 28 14:16 Makefile\n",
      "-rw-r--r--  1 briag briag   3631 Aug 28 14:16 README.md\n",
      "drwxr-xr-x  2 briag briag   4096 Aug 28 16:35 \u001b[01;34m_action_files\u001b[0m\n",
      "-rw-r--r--  1 briag briag   3807 Aug 28 14:16 _config.yml\n",
      "drwxr-xr-x  2 briag briag   4096 Aug 28 16:35 \u001b[01;34m_fastpages_docs\u001b[0m\n",
      "drwxr-xr-x  2 briag briag   4096 Aug 28 16:35 \u001b[01;34m_includes\u001b[0m\n",
      "drwxr-xr-x  2 briag briag   4096 Aug 28 16:35 \u001b[01;34m_layouts\u001b[0m\n",
      "drwxr-xr-x  4 briag briag   4096 Aug 28 16:35 \u001b[01;34m_notebooks\u001b[0m\n",
      "drwxr-xr-x  2 briag briag   4096 Aug 28 16:35 \u001b[01;34m_pages\u001b[0m\n",
      "drwxr-xr-x  2 briag briag   4096 Aug 28 16:35 \u001b[01;34m_plugins\u001b[0m\n",
      "drwxr-xr-x  2 briag briag   4096 Aug 28 16:35 \u001b[01;34m_posts\u001b[0m\n",
      "drwxr-xr-x  3 briag briag   4096 Aug 28 16:35 \u001b[01;34m_sass\u001b[0m\n",
      "drwxr-xr-x  2 briag briag   4096 Aug 28 16:35 \u001b[01;34m_word\u001b[0m\n",
      "drwxr-xr-x  4 briag briag   4096 Aug 28 16:35 \u001b[01;34massets\u001b[0m\n",
      "-rw-r--r--  1 briag briag   1180 Aug 28 14:16 docker-compose.yml\n",
      "drwxr-xr-x  3 briag briag   4096 Aug 28 16:35 \u001b[01;34mimages\u001b[0m\n",
      "-rw-r--r--  1 briag briag    636 Aug 28 14:16 index.html\n"
     ]
    }
   ],
   "source": [
    "# You must run cells above to define variable and project\n",
    "\n",
    "# echo command is a print statement\n",
    "\n",
    "echo \"Navigate to project, then navigate to area wwhere files were cloned\"\n",
    "cd $project\n",
    "pwd\n",
    "\n",
    "echo \"\"\n",
    "echo \"list top level or root of files with project pulled from github\"\n",
    "ls\n",
    "\n",
    "echo \"\"\n",
    "echo \"list again with hidden files pulled from github\"\n",
    "ls -a   # hidden files flag, many shell commands have flags\n",
    "\n",
    "cd /home/briag/vscode/APCSA-BRIA-1\n",
    "echo \"\"\n",
    "echo \"list all files in long format\"\n",
    "ls -al   # all files and long listing"
   ]
  },
  {
   "cell_type": "code",
   "execution_count": 4,
   "metadata": {
    "vscode": {
     "languageId": "shellscript"
    }
   },
   "outputs": [
    {
     "name": "stdout",
     "output_type": "stream",
     "text": [
      "Look for posts\n",
      "bash: cd: /home/briag/vscode/temprepo/_posts: No such file or directory\n",
      "/home/briag/vscode/APCSA-BRIA-1/_notebooks\n",
      "total 8\n",
      "-rw-r--r-- 1 briag briag 2069 Aug 28 14:16 2020-01-14-test-markdown-post.md\n",
      "-rw-r--r-- 1 briag briag  737 Aug 28 14:16 README.md\n"
     ]
    }
   ],
   "source": [
    "# You must run cells above to define variable and project\n",
    "\n",
    "# Looks into the post directory and shows all the posts\n",
    "\n",
    "\n",
    "echo \"Look for posts\"\n",
    "export posts=$project/_posts  # _posts inside project\n",
    "cd $posts  # this should exist per fastpages\n",
    "pwd  # present working directory\n",
    "\n",
    "cd /home/briag/vscode/APCSA-BRIA-1/_posts\n",
    "ls -l  # list posts"
   ]
  },
  {
   "cell_type": "code",
   "execution_count": 3,
   "metadata": {
    "vscode": {
     "languageId": "shellscript"
    }
   },
   "outputs": [
    {
     "name": "stdout",
     "output_type": "stream",
     "text": [
      "Look for notebooks\n",
      "bash: cd: /home/briag/vscode/temprepo/_notebooks: No such file or directory\n",
      "/home/briag/vscode/APCSA-BRIA-1\n",
      "total 3116\n",
      "-rw-r--r-- 1 briag briag 3163230 Aug 28 14:16 2020-02-20-test.ipynb\n",
      "-rw-r--r-- 1 briag briag     428 Aug 28 16:45 2022-08-28-bash.ipynb\n",
      "-rw-r--r-- 1 briag briag    7964 Aug 28 15:59 2022-08-28-primitive-types.ipynb\n",
      "-rw-r--r-- 1 briag briag     784 Aug 28 14:16 README.md\n",
      "drwxr-xr-x 2 briag briag    4096 Aug 28 16:35 \u001b[0m\u001b[01;34mghtop_images\u001b[0m\n",
      "drwxr-xr-x 2 briag briag    4096 Aug 28 16:35 \u001b[01;34mmy_icons\u001b[0m\n"
     ]
    }
   ],
   "source": [
    "# You must run cells above to define variable and project\n",
    "\n",
    "echo \"Look for notebooks\"\n",
    "export notebooks=$project/_notebooks  # _notebooks is inside project\n",
    "cd $notebooks   # this should exist per fastpages\n",
    "pwd  # present working directory\n",
    "\n",
    "cd /home/briag/vscode/APCSA-BRIA-1/_notebooks\n",
    "ls -l  # list notebooks"
   ]
  },
  {
   "cell_type": "code",
   "execution_count": 6,
   "metadata": {
    "vscode": {
     "languageId": "shellscript"
    }
   },
   "outputs": [
    {
     "name": "stdout",
     "output_type": "stream",
     "text": [
      "Show the shell environment variables, key on left of equal value on right\n",
      "\n",
      "SHELL=/bin/bash\n",
      "PYTHONUNBUFFERED=1\n",
      "project=/home/briag/vscode/temprepo\n",
      "CONDA_EXE=/home/briag/anaconda3/bin/conda\n",
      "_CE_M=\n",
      "WSL_DISTRO_NAME=Ubuntu\n",
      "ELECTRON_RUN_AS_NODE=1\n",
      "VSCODE_AMD_ENTRYPOINT=vs/workbench/api/node/extensionHostProcess\n",
      "NAME=BG101\n",
      "PWD=/home/briag/vscode/APCSA-BRIA-1/_posts\n",
      "LOGNAME=briag\n",
      "CONDA_PREFIX=/home/briag/anaconda3\n",
      "HOME=/home/briag\n",
      "LANG=C.UTF-8\n",
      "WSL_INTEROP=/run/WSL/6221_interop\n",
      "LS_COLORS=rs=0:di=01;34:ln=01;36:mh=00:pi=40;33:so=01;35:do=01;35:bd=40;33;01:cd=40;33;01:or=40;31;01:mi=00:su=37;41:sg=30;43:ca=30;41:tw=30;42:ow=34;42:st=37;44:ex=01;32:*.tar=01;31:*.tgz=01;31:*.arc=01;31:*.arj=01;31:*.taz=01;31:*.lha=01;31:*.lz4=01;31:*.lzh=01;31:*.lzma=01;31:*.tlz=01;31:*.txz=01;31:*.tzo=01;31:*.t7z=01;31:*.zip=01;31:*.z=01;31:*.dz=01;31:*.gz=01;31:*.lrz=01;31:*.lz=01;31:*.lzo=01;31:*.xz=01;31:*.zst=01;31:*.tzst=01;31:*.bz2=01;31:*.bz=01;31:*.tbz=01;31:*.tbz2=01;31:*.tz=01;31:*.deb=01;31:*.rpm=01;31:*.jar=01;31:*.war=01;31:*.ear=01;31:*.sar=01;31:*.rar=01;31:*.alz=01;31:*.ace=01;31:*.zoo=01;31:*.cpio=01;31:*.7z=01;31:*.rz=01;31:*.cab=01;31:*.wim=01;31:*.swm=01;31:*.dwm=01;31:*.esd=01;31:*.jpg=01;35:*.jpeg=01;35:*.mjpg=01;35:*.mjpeg=01;35:*.gif=01;35:*.bmp=01;35:*.pbm=01;35:*.pgm=01;35:*.ppm=01;35:*.tga=01;35:*.xbm=01;35:*.xpm=01;35:*.tif=01;35:*.tiff=01;35:*.png=01;35:*.svg=01;35:*.svgz=01;35:*.mng=01;35:*.pcx=01;35:*.mov=01;35:*.mpg=01;35:*.mpeg=01;35:*.m2v=01;35:*.mkv=01;35:*.webm=01;35:*.ogm=01;35:*.mp4=01;35:*.m4v=01;35:*.mp4v=01;35:*.vob=01;35:*.qt=01;35:*.nuv=01;35:*.wmv=01;35:*.asf=01;35:*.rm=01;35:*.rmvb=01;35:*.flc=01;35:*.avi=01;35:*.fli=01;35:*.flv=01;35:*.gl=01;35:*.dl=01;35:*.xcf=01;35:*.xwd=01;35:*.yuv=01;35:*.cgm=01;35:*.emf=01;35:*.ogv=01;35:*.ogx=01;35:*.aac=00;36:*.au=00;36:*.flac=00;36:*.m4a=00;36:*.mid=00;36:*.midi=00;36:*.mka=00;36:*.mp3=00;36:*.mpc=00;36:*.ogg=00;36:*.ra=00;36:*.wav=00;36:*.oga=00;36:*.opus=00;36:*.spx=00;36:*.xspf=00;36:\n",
      "CONDA_PROMPT_MODIFIER=(base) \n",
      "PYDEVD_USE_FRAME_EVAL=NO\n",
      "posts=/home/briag/vscode/temprepo/_posts\n",
      "LESSCLOSE=/usr/bin/lesspipe %s %s\n",
      "VSCODE_HANDLES_SIGPIPE=true\n",
      "TERM=xterm-256color\n",
      "_CE_CONDA=\n",
      "LESSOPEN=| /usr/bin/lesspipe %s\n",
      "USER=briag\n",
      "project_direct=/home/briag/vscode\n",
      "PYTHONIOENCODING=utf-8\n",
      "notebooks=/home/briag/vscode/temprepo/_notebooks\n",
      "CONDA_SHLVL=1\n",
      "SHLVL=1\n",
      "PAGER=cat\n",
      "project_repo=https://github.com/B-G101/temp-repo.git\n",
      "VSCODE_CWD=/mnt/c/Users/briag/AppData/Local/Programs/Microsoft VS Code\n",
      "CONDA_PYTHON_EXE=/home/briag/anaconda3/bin/python\n",
      "PS1=[PEXP\\[\\]ECT_PROMPT>\n",
      "CONDA_DEFAULT_ENV=base\n",
      "WSLENV=VSCODE_WSL_EXT_LOCATION/up\n",
      "VSCODE_WSL_EXT_LOCATION=/mnt/c/Users/briag/.vscode/extensions/ms-vscode-remote.remote-wsl-0.66.3\n",
      "PATH=/home/briag/anaconda3/bin:/home/briag/anaconda3/condabin:/home/briag/.vscode-server/bin/e4503b30fc78200f846c62cf8091b76ff5547662/bin/remote-cli:/usr/local/sbin:/usr/local/bin:/usr/sbin:/usr/bin:/sbin:/bin:/usr/games:/usr/local/games:/usr/lib/wsl/lib:/mnt/c/Program Files/Common Files/Oracle/Java/javapath:/mnt/c/WINDOWS/system32:/mnt/c/WINDOWS:/mnt/c/WINDOWS/System32/Wbem:/mnt/c/WINDOWS/System32/WindowsPowerShell/v1.0:/mnt/c/WINDOWS/System32/OpenSSH:/mnt/c/Program Files/Git/cmd:/mnt/c/Users/briag/AppData/Local/Programs/Python/Python39/Scripts:/mnt/c/Users/briag/AppData/Local/Programs/Python/Python39:/mnt/c/Users/briag/AppData/Local/Microsoft/WindowsApps:/mnt/c/Users/briag/AppData/Local/Programs/Microsoft VS Code/bin\n",
      "VSCODE_NLS_CONFIG={\"locale\":\"en\",\"availableLanguages\":{}}\n",
      "HOSTTYPE=x86_64\n",
      "VSCODE_HANDLES_UNCAUGHT_ERRORS=true\n",
      "OLDPWD=/home/briag/vscode/APCSA-BRIA-1/_notebooks\n",
      "VSCODE_IPC_HOOK_CLI=/tmp/vscode-ipc-06cc32ce-ad22-4fe0-8a01-4dfdf25dc8cb.sock\n",
      "_=/usr/bin/env\n"
     ]
    }
   ],
   "source": [
    "echo \"Show the shell environment variables, key on left of equal value on right\"\n",
    "echo \"\"\n",
    "\n",
    "env"
   ]
  },
  {
   "cell_type": "code",
   "execution_count": 5,
   "metadata": {
    "vscode": {
     "languageId": "shellscript"
    }
   },
   "outputs": [
    {
     "name": "stdout",
     "output_type": "stream",
     "text": [
      "bash: cd: /home/briag/vscode/temprepo: No such file or directory\n",
      "\n",
      "show the secrets of .git\n",
      "bash: cd: .git: No such file or directory\n",
      "total 8\n",
      "-rw-r--r-- 1 briag briag 2069 Aug 28 14:16 2020-01-14-test-markdown-post.md\n",
      "-rw-r--r-- 1 briag briag  737 Aug 28 14:16 README.md\n",
      "\n",
      "look at config file\n",
      "cat: config: No such file or directory\n"
     ]
    },
    {
     "ename": "",
     "evalue": "1",
     "output_type": "error",
     "traceback": []
    }
   ],
   "source": [
    "cd $project\n",
    "\n",
    "echo \"\"\n",
    "echo \"show the secrets of .git\"\n",
    "cd .git\n",
    "ls -l\n",
    "\n",
    "echo \"\"\n",
    "echo \"look at config file\"\n",
    "cat config"
   ]
  }
 ],
 "metadata": {
  "kernelspec": {
   "display_name": "Bash",
   "language": "bash",
   "name": "bash"
  },
  "language_info": {
   "codemirror_mode": "shell",
   "file_extension": ".sh",
   "mimetype": "text/x-sh",
   "name": "bash"
  },
  "orig_nbformat": 4
 },
 "nbformat": 4,
 "nbformat_minor": 2
}
