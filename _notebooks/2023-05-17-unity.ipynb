{
 "cells": [
  {
   "attachments": {},
   "cell_type": "markdown",
   "metadata": {},
   "source": [
    "# Unity Process\n",
    "> Unity // AP CSA\n",
    "\n",
    "- toc: true \n",
    "- badges: true\n",
    "- comments: true\n",
    "- categories: [jupyter,testprep]\n",
    "- image: images/chart-preview.png"
   ]
  },
  {
   "cell_type": "code",
   "execution_count": null,
   "metadata": {},
   "outputs": [],
   "source": []
  },
  {
   "attachments": {},
   "cell_type": "markdown",
   "metadata": {},
   "source": [
    "Unity Process\n",
    "\n",
    "### Shortcuts\n",
    "- W - Move\n",
    "- E - Rotate\n",
    "- R - Resize using x/y coordinates\n",
    "- T - Resize by grabbing edges of shapes\n",
    "- Components: Type of game object is based on the components\n",
    "- Camera has camera component\n",
    "- Sprite has sprite renderer component\n",
    "- Sprite: 2D graphic object obtained from bitmap image\n",
    "- Duplicate game object:\n",
    "- Command/Ctrl + D\n",
    "\n",
    "#### Windows:\n",
    " -Edit>Preferences>External Tools\n",
    "\n",
    "#### MacOS:\n",
    "- Unity>Preferences>External Tools\n",
    "- Make sure your external tool editor is set to VsCode\n",
    "- Add code by right-clicking assets\n",
    "- Nice Add-Ons\n",
    "- Unity Code Snippits\n",
    "\n",
    "#### Code:\n",
    "- transform.Rotate(x, y, z) to rotate\n",
    "- Transform.Translate(x, y, z) to move\n",
    "- Put f next to number if its a float\n",
    "\n",
    "#### SerializeField\n",
    "- Adds serialize attribute\n",
    "- Makes variable available in Unity inspector\n",
    "- Unity has two input systems\n",
    "- Old and new"
   ]
  }
 ],
 "metadata": {
  "language_info": {
   "name": "python"
  },
  "orig_nbformat": 4
 },
 "nbformat": 4,
 "nbformat_minor": 2
}
