{
 "cells": [
  {
   "cell_type": "markdown",
   "metadata": {},
   "source": [
    "# Unit 1-5 Blog\n",
    "> Test Prep // AP CSA\n",
    "\n",
    "- toc: true \n",
    "- badges: true\n",
    "- comments: true\n",
    "- categories: [jupyter,testprep]\n",
    "- image: images/chart-preview.png"
   ]
  },
  {
   "cell_type": "markdown",
   "metadata": {},
   "source": [
    "## Homework TOC\n",
    "\n",
    "| Week # | CB Topics | Score\n",
    "|---|---|---|\n",
    "| Week 1 | [01 Primitive Types](https://b-g101.github.io/APCSA-BRIA/markdown/2022/10/16/primitives-notes.html) <br> [02 Using Objects](https://b-g101.github.io/APCSA-BRIA/jupyter/unit2/2022/10/17/objects-class.html) | Unit 1: 1/1 <br> Unit 2: 1/1 |\n",
    "| Week 2 | [03 Boolean Expressions and if Statements](https://b-g101.github.io/APCSA-BRIA/jupyter/unit3/2022/10/18/boolean-expressions-class.html) <br> [04 Iteration](https://b-g101.github.io/APCSA-BRIA/2022/10/22/iteration.html) <br> [05 Writing Classes](https://b-g101.github.io/APCSA-BRIA/fastpages/notes/classes/2022/10/22/writing-classes.html)  | Unit 3: 0.8/1 <br> Unit 4: 1/1 <br> Unit 5: 0.85/1 |\n",
    "| Week 3 | [06 Array](https://b-g101.github.io/APCSA-BRIA/jupyter/unit4/2022/10/10/array-list.html) |\n"
   ]
  },
  {
   "cell_type": "markdown",
   "metadata": {},
   "source": [
    "### Casting, specifically for Division (From Unit 1: Primitive Types)\n",
    "Converting from one data type to another. Includes widening (small data to big data) vs narrowing (big data to small data). Allows us to change the data type without changing the actual data"
   ]
  },
  {
   "cell_type": "code",
   "execution_count": 5,
   "metadata": {
    "vscode": {
     "languageId": "java"
    }
   },
   "outputs": [
    {
     "name": "stdout",
     "output_type": "stream",
     "text": [
      "3.3623823078607398\n",
      "3\n"
     ]
    }
   ],
   "source": [
    "public class Test\n",
    "{\n",
    "   public static void main(String[] args)\n",
    "   {\n",
    "     double x=4.567, y=15.356;\n",
    "     double d = y/x;\n",
    "     int z = (int)(y/x);\n",
    "     System.out.println(d);\n",
    "     System.out.println(z);\n",
    "   }\n",
    "}\n",
    "\n",
    "\n",
    "Test.main(null);"
   ]
  },
  {
   "cell_type": "markdown",
   "metadata": {},
   "source": [
    "### Wrapper Classes (Related to Unit 1: Primitive Types and Casting)\n",
    "Wrapper classes can be used to turn primitive data types into an object to be used in object oriented code. Primitives are immutible and so are wrapper classes with primitives. Allows Java to technically be completed object oriented. Also allows us to use primitives and to work with collections like HashMaps and ArrayLists and perform complex operations. "
   ]
  },
  {
   "cell_type": "code",
   "execution_count": 7,
   "metadata": {
    "vscode": {
     "languageId": "java"
    }
   },
   "outputs": [
    {
     "name": "stdout",
     "output_type": "stream",
     "text": [
      "My double is 67.0\n"
     ]
    }
   ],
   "source": [
    "public class Main {\n",
    "    public static void main (String args[]) {\n",
    "        \n",
    "      int num = 67;\n",
    "      // int variable used as value of the wrapper class constructor\n",
    "      Double myDouble = new Double(num); // using Double wrapper class\n",
    "    \n",
    "      // showing the double value\n",
    "      System.out.println(\"My double is \" + myDouble);\n",
    "    }\n",
    "  }\n",
    "  Main.main(null);"
   ]
  },
  {
   "cell_type": "code",
   "execution_count": 8,
   "metadata": {
    "vscode": {
     "languageId": "java"
    }
   },
   "outputs": [
    {
     "name": "stdout",
     "output_type": "stream",
     "text": [
      "My double is 67.0\n"
     ]
    }
   ],
   "source": [
    "public class Main {\n",
    "    public static void main (String[] args) {\n",
    "        \n",
    "      int myInt = 67;\n",
    "      Double myDouble = Double.valueOf(myInt);// converting int to double using the Double valueOf() method\n",
    "    \n",
    "      System.out.println(\"My double is \" + myDouble);\n",
    "    }\n",
    "  }\n",
    "  Main.main(null);"
   ]
  },
  {
   "cell_type": "markdown",
   "metadata": {},
   "source": [
    "Another example is the setStats API from the FRQ #2 practice. \n",
    "\n",
    "[insert picture]()"
   ]
  },
  {
   "cell_type": "markdown",
   "metadata": {},
   "source": [
    "### Math Class (Related to all Units since this is helpful everywhere)\n",
    "The Math Class has a lot of helpful methods that can be used in our code. It is vital to calculations and an example of its use it in the calculator code that we worked on during trimester 1. It does not need to be imported because it is in Java Lang Package"
   ]
  },
  {
   "cell_type": "code",
   "execution_count": 17,
   "metadata": {
    "vscode": {
     "languageId": "java"
    }
   },
   "outputs": [
    {
     "name": "stdout",
     "output_type": "stream",
     "text": [
      "Input a angle in degrees\n",
      "Your angle in randians is: 1.0471975511965976\n",
      "Sine of 60 is 0.8660254037844386\n",
      "Cosine of 60 is 0.5000000000000001\n",
      "Tangent of 60 is 1.7320508075688767\n"
     ]
    }
   ],
   "source": [
    "import java.util.Scanner;\n",
    "\n",
    "public class Main{\n",
    "    public static void main(String[] args) {\n",
    "        Scanner user = new Scanner(System.in);\n",
    "        System.out.println(\"Input a angle in degrees\");\n",
    "\n",
    "        int angle = user.nextInt();\n",
    "        double rangle = Math.toRadians(angle);\n",
    "\n",
    "        System.out.println(\"Your angle in randians is: \" + Math.toRadians(angle));\n",
    "        System.out.println(\"Sine of \" + angle + \" is \" + Math.sin(rangle));\n",
    "        System.out.println(\"Cosine of \" + angle + \" is \" + Math.cos(rangle));\n",
    "        System.out.println(\"Tangent of \" + angle + \" is \" + Math.tan(rangle));\n",
    "\n",
    "    }\n",
    "}\n",
    "Main.main(null);"
   ]
  },
  {
   "cell_type": "markdown",
   "metadata": {},
   "source": [
    "### Truth Tables (Related to Unit 3)\n",
    "Truth tables are a combination of and (&&) and or (||)statements. They can help us see the results of conditionals and how ands and ors work together. Helpful for visualizing outcomes and potential results based on the input trues and falses that the conditional recieves\n",
    "\n",
    "| x | y | x && y | !x | !y | (!x && !y) | (x && y) \\|\\| (!x && !y) |\n",
    "|---|---|---|---|---|---|---|\n",
    "| T | T | T | F | F | F | T |\n",
    "| T | F | F | F | T | F | F |\n",
    "| F | T | F | T | F | F | F |\n",
    "| F | F | F | T | T | T | T |"
   ]
  },
  {
   "cell_type": "markdown",
   "metadata": {},
   "source": [
    "### Comparing Numbers (This could be all of the units but it mostly relates to Unit 3: Boolean Expressions and if Statements/ Unit 4: Iteration)\n",
    "To compare two number you can use the two equal signs which indicates the comparison operator is being used. This is most frequently used in if statements or while statements. This only works for primitive data types. Other methods of comparison include greater than (>), less than (<), greater than and equals to (>=), and less than and equals to (<=), and not equals (!=)."
   ]
  },
  {
   "cell_type": "code",
   "execution_count": 20,
   "metadata": {
    "vscode": {
     "languageId": "java"
    }
   },
   "outputs": [
    {
     "name": "stdout",
     "output_type": "stream",
     "text": [
      "Give me a number!\n",
      "Give me another number!\n",
      "65675\n",
      "34656\n",
      "65675 is greater than 34656\n"
     ]
    }
   ],
   "source": [
    "import java.util.Scanner;\n",
    "public class Main{\n",
    "    public static void main(String[] args){\n",
    "        Scanner user = new Scanner(System.in);\n",
    "        System.out.println(\"Give me a number!\");\n",
    "       \n",
    "\n",
    "        Scanner user2 = new Scanner(System.in);\n",
    "        System.out.println(\"Give me another number!\");\n",
    "\n",
    "        int num1 = user.nextInt();\n",
    "        int num2 = user.nextInt();\n",
    "\n",
    "        System.out.println(num1);\n",
    "        System.out.println(num2);\n",
    "\n",
    "        if (num1 > num2){\n",
    "            System.out.println(num1 + \" is greater than \" + num2);\n",
    "        }\n",
    "        else if (num1 == num2){\n",
    "            System.out.println(num1 + \" is equal to \" + num2);\n",
    "        }\n",
    "        else if (num1 < num2){\n",
    "            System.out.println(num1 + \" is less than \" + num2);\n",
    "        }\n",
    "    }\n",
    "}\n",
    "Main.main(null);"
   ]
  },
  {
   "cell_type": "markdown",
   "metadata": {},
   "source": [
    "### Comparing Objects (This is most related to the Unit 2: Using Obects)\n",
    "== and != operators can be used for wrapper classes and comparing them to a primitive value. To use those operators to compare the two objects you must use the format assertThat(a == b).isTrue(). Additionally there is the equals() method that serves the same purpose as the double equals operator. However, this equals method can be overridden to compare objects based on their internal details within a class. There are also comparator interface methods that you must implement yourself including compareTo(), compareBy___(), and more. "
   ]
  },
  {
   "cell_type": "code",
   "execution_count": null,
   "metadata": {
    "vscode": {
     "languageId": "java"
    }
   },
   "outputs": [],
   "source": [
    "public class Person {\n",
    "    private String firstName;\n",
    "    private String lastName;\n",
    "\n",
    "    public Person(String firstName, String lastName) {\n",
    "        this.firstName = firstName;\n",
    "        this.lastName = lastName;\n",
    "    }\n",
    "}\n",
    "\n",
    "@Override\n",
    "public boolean equals(Object o) {\n",
    "    if (this == o) return true;\n",
    "    if (o == null || getClass() != o.getClass()) return false;\n",
    "    Person that = (Person) o;\n",
    "    return firstName.equals(that.firstName) &&\n",
    "      lastName.equals(that.lastName);\n",
    "}\n",
    "Person.main(null);"
   ]
  },
  {
   "cell_type": "markdown",
   "metadata": {},
   "source": [
    "### while loop versus do while loop (Related to Unit 4: Iteration)\n",
    "while loop executes while a condition is true and terminates otherwise. do while loop is guaranteed to execute at least one time. the do will execute and then the while condition is checked and the program will either continue to execute or terminate. "
   ]
  },
  {
   "cell_type": "markdown",
   "metadata": {},
   "source": [
    "Wrapper Classes, why wrap int, double. Show examples\n",
    "Math class, specifically Random usage\n",
    "Truth Tables\n",
    "Comparing Numbers\n",
    "Comparing Objects\n",
    "while loop versus do while loop\n",
    "Creating a Class, describe Naming Conventions\n",
    "Accessor methods, relationship to getter\n",
    "Static variables, Class variables, show use case in code\n",
    "Static methods, Class methods\n",
    "main method, tester methods\n",
    "Subclass constructor, super Keyword\n",
    "Overriding a method, same signature of a method\n",
    "Standard methods: toString(), equals(), hashCode()\n",
    "Polymorphism: any of overloading, overriding, late binding"
   ]
  },
  {
   "cell_type": "code",
   "execution_count": 25,
   "metadata": {
    "vscode": {
     "languageId": "java"
    }
   },
   "outputs": [
    {
     "name": "stdout",
     "output_type": "stream",
     "text": [
      "1\n",
      "2\n",
      "3\n",
      "4\n",
      "5\n",
      "6\n",
      "7\n",
      "8\n",
      "9\n",
      "10\n"
     ]
    }
   ],
   "source": [
    "public class DoWhileExample {    \n",
    "    public static void main(String[] args) {    \n",
    "        int i=1;    \n",
    "        do{    \n",
    "            System.out.println(i);    \n",
    "        i++;    \n",
    "        }while(i<=10);    \n",
    "    }    \n",
    "    }    \n",
    "DoWhileExample.main(null);"
   ]
  },
  {
   "cell_type": "markdown",
   "metadata": {},
   "source": [
    "### Creating a Class, describe Naming Conventions (Related to Unit 5: Writing Classes)\n",
    "Naming convention is lowercase first word then any words after that should be title case. A class is a set of objects that have common methods and attributes. Class is a blueprint for objects. Class has groups of variables and group of methods. To create a class use the word class and specify the access modifier. \n",
    "\n",
    "Syntax: access_modifier class <class_name>\n",
    "\n",
    "Class declarations can have modifiers, class keywords, class names, superclasses, or interfaces."
   ]
  },
  {
   "cell_type": "code",
   "execution_count": null,
   "metadata": {
    "vscode": {
     "languageId": "java"
    }
   },
   "outputs": [],
   "source": [
    "public class Students{\n",
    "    // Body of the class\n",
    "}\n",
    "\n",
    "private class studentIDs{\n",
    "    // Body of the Class\n",
    "}"
   ]
  },
  {
   "cell_type": "markdown",
   "metadata": {},
   "source": [
    "### Constructor, describe why there is no return\n",
    "Contructors are how objects are intialized. It can be used to set the intial values for object attributes. The constructor has not return because it is not called directly by the code"
   ]
  },
  {
   "cell_type": "code",
   "execution_count": 35,
   "metadata": {
    "vscode": {
     "languageId": "java"
    }
   },
   "outputs": [],
   "source": [
    "public class Person{\n",
    "    int age,height,weight;\n",
    "    public Person(int age, int height, int weight){\n",
    "        this.age = age;\n",
    "        this.height = height;\n",
    "        this.weight = weight;\n",
    "    }\n",
    "}\n",
    "\n",
    "public class Main{\n",
    "    public static void main(String args[]){\n",
    "        Person person1 = new Person(18, 67, 120);\n",
    "    }\n",
    "}"
   ]
  },
  {
   "cell_type": "markdown",
   "metadata": {},
   "source": [
    "### Accessor methods, relationship to getter (Related to Unit 5: Writing Classes)\n",
    "An accessor method is a method that gets private data that is sotred in an object. This allows a way to get the value of each instance variable from outside of the class. Allows data use in other places than just the class that it was declared in. Accessor methods are know as getters. (Similar to how an API gets a response from a request sent from outside of the API)"
   ]
  },
  {
   "cell_type": "code",
   "execution_count": 26,
   "metadata": {
    "vscode": {
     "languageId": "java"
    }
   },
   "outputs": [
    {
     "name": "stdout",
     "output_type": "stream",
     "text": [
      "Name:Skyler\n",
      "Email:skyler@sky.com\n",
      "ID: 123456\n"
     ]
    }
   ],
   "source": [
    "public class TesterClass\n",
    "{\n",
    "   // main method for testing\n",
    "   public static void main(String[] args)\n",
    "   {\n",
    "      Student s1 = new Student(\"Skyler\", \"skyler@sky.com\", 123456);\n",
    "      System.out.println(\"Name:\" +  s1.getName() );\n",
    "      System.out.println(\"Email:\" +  s1.getEmail() );\n",
    "      System.out.println(\"ID: \" + s1.getId() );\n",
    "   }\n",
    " }\n",
    "/** Class Student keeps track of name, email, and id of a Student. */\n",
    "class Student\n",
    "{\n",
    "   private String name;\n",
    "   private String email;\n",
    "   private int id;\n",
    "\n",
    "   public Student(String initName, String initEmail, int initId)\n",
    "   {\n",
    "      name = initName;\n",
    "      email = initEmail;\n",
    "      id = initId;\n",
    "   }\n",
    "\n",
    "   // accessor methods - getters\n",
    "   /** getName()  @return name */\n",
    "   public String getName()\n",
    "   {\n",
    "      return name;\n",
    "   }\n",
    "   /** getEmail()  @return email */\n",
    "   public String getEmail()\n",
    "   {\n",
    "      return email;\n",
    "   }\n",
    "   /** getName()  @return id */\n",
    "   public int getId()\n",
    "   {\n",
    "      return id;\n",
    "   }\n",
    "}\n",
    "\n",
    "TesterClass.main(null);"
   ]
  },
  {
   "cell_type": "markdown",
   "metadata": {},
   "source": [
    "### Mutator methods, relationship to setter, describe void return type\n",
    "Mutator methods reset the value of a private variable. It gives other classes the ability to modify the value stoed in that variable without having direct access to the variable itself. Allows the user to set/mutate the value of the private variables of a class object. aka setters. Used along with getters to protect sensitive information (private) in a class."
   ]
  },
  {
   "cell_type": "code",
   "execution_count": 40,
   "metadata": {
    "vscode": {
     "languageId": "java"
    }
   },
   "outputs": [
    {
     "name": "stdout",
     "output_type": "stream",
     "text": [
      "Student Bio [ Before using Accessors & Mutators ]\n",
      "Name: null\tID: null\tGPA: 0.0\tDOB: null\tCourses: null\n",
      "\n",
      "Student Bio [ After using Mutators & Accessors ]\n",
      "Name: Alex Coy\tID: 3115\tGPA: 2.79\tDOB: 08/08/1998\tCourses: [Object Oriented Programming, Cryptography, Photography, Network Security]\n"
     ]
    }
   ],
   "source": [
    "import java.util.Arrays;\n",
    "\n",
    "public class Student {\n",
    "\n",
    "\tprivate String name;\n",
    "\tprivate Integer ID;\n",
    "\tprivate String DOB;\n",
    "\tprivate double GPA;\n",
    "\tprivate String[] courses;\n",
    "\n",
    "\tpublic String getName() {\n",
    "\t\treturn name;\n",
    "\t}\n",
    "\n",
    "\tpublic void setName(String name) {\n",
    "\t\tthis.name = name;\n",
    "\t}\n",
    "\n",
    "\tpublic Integer getID() {\n",
    "\t\treturn ID;\n",
    "\t}\n",
    "\n",
    "\tpublic void setID(Integer iD) {\n",
    "\t\tthis.ID = iD;\n",
    "\t}\n",
    "\n",
    "\tpublic String getDOB() {\n",
    "\t\treturn DOB;\n",
    "\t}\n",
    "\n",
    "\tpublic void setDOB(String dOB) {\n",
    "\t\tthis.DOB = dOB;\n",
    "\t}\n",
    "\n",
    "\tpublic double getGPA() {\n",
    "\t\treturn GPA;\n",
    "\t}\n",
    "\n",
    "\tpublic void setGPA(double gPA) {\n",
    "\t\tthis.GPA = gPA;\n",
    "\t}\n",
    "\n",
    "\tpublic String[] getCourses() {\n",
    "\t\treturn courses;\n",
    "\t}\n",
    "\n",
    "\tpublic void setCourses(String[] courses) {\n",
    "\t\tthis.courses = courses;\n",
    "\t}\n",
    "\n",
    "\tpublic static void main(String[] args) {\n",
    "\n",
    "\t\tStudent student1 = new Student();\n",
    "\n",
    "\t\tSystem.out.println(\"Student Bio [ Before using Accessors & Mutators ]\");\n",
    "\n",
    "\t\t// calling accessor methods\n",
    "\t\tSystem.out.print(\"Name: \" + student1.getName());\n",
    "\t\tSystem.out.print(\"\\tID: \" + student1.getID());\n",
    "\t\tSystem.out.print(\"\\tGPA: \" + student1.getGPA());\n",
    "\t\tSystem.out.print(\"\\tDOB: \" + student1.getDOB());\n",
    "\t\tSystem.out.println(\"\\tCourses: \" +  Arrays.toString(student1.getCourses()));\n",
    "\n",
    "\t\t// calling mutator methods\n",
    "\t\tstudent1.setName(\"Alex Coy\");\n",
    "\t\tstudent1.setID(3115);\n",
    "\t\tstudent1.setGPA(2.79);\n",
    "\t\tstudent1.setDOB(\"08/08/1998\");\n",
    "\t\tString[] courses = { \"Object Oriented Programming\", \"Cryptography\", \"Photography\", \"Network Security\" };\n",
    "\t\tstudent1.setCourses(courses);\n",
    "\n",
    "\t\tSystem.out.println(\"\\nStudent Bio [ After using Mutators & Accessors ]\");\n",
    "\n",
    "\t\t// calling accessor methods\n",
    "\t\tSystem.out.print(\"Name: \" + student1.getName());\n",
    "\t\tSystem.out.print(\"\\tID: \" + student1.getID());\n",
    "\t\tSystem.out.print(\"\\tGPA: \" + student1.getGPA());\n",
    "\t\tSystem.out.print(\"\\tDOB: \" + student1.getDOB());\n",
    "\t\tSystem.out.println(\"\\tCourses: \" + Arrays.toString(student1.getCourses()));\n",
    "\t}\n",
    "}\n",
    "Student.main(null);"
   ]
  },
  {
   "cell_type": "markdown",
   "metadata": {},
   "source": [
    "### Static variables, Class variables, show use case in code (Relates to Unit 5: Writing Classes)\n",
    "A static variable (same as class variable) is a variable that is declared in the class and can only be used by objects and methods in that class. However it can be used in all instances of the class. Static variabiles can be accessed using class names and they can be accessed by static and non static methods. Only initialized once. The variable belongs to the class. \n",
    "\n",
    "Example of this use is in the math classes we worked with during trimester 1"
   ]
  },
  {
   "cell_type": "code",
   "execution_count": null,
   "metadata": {
    "vscode": {
     "languageId": "java"
    }
   },
   "outputs": [],
   "source": [
    "public abstract class Fibo {\n",
    "    String name;  // name or title of method\n",
    "    int size;  // nth sequence\n",
    "    int hashID;  // counter for hashIDs in hash map\n",
    "    ArrayList<Long> list;   // captures current Fibonacci sequence\n",
    "    HashMap<Integer, Object> hash;  // captures each sequence leading to final result\n",
    "\n",
    "    // Static variables being initialized once for use throughout the entire class"
   ]
  },
  {
   "cell_type": "markdown",
   "metadata": {},
   "source": [
    "### Show use case of access modifiers: Public, Private, Protected (This relates to Unit 5: Writing Classes)\n",
    "Public: allows access from any class\n",
    "\n",
    "Private: restricts access to only the class that declared the structure\n",
    "\n",
    "Default: acccess allowed withint the same package\n",
    "\n",
    "Protected: access allowed within the class/package and outside of the class/package only if there is a child class/package. the only way to access is through inheritance\n"
   ]
  },
  {
   "cell_type": "markdown",
   "metadata": {},
   "source": [
    "### Static methods, Class methods (Relates to Unit 5: Writing Classes)\n",
    "\n",
    "A static method is a method that belongs to the class and not a specific object of the class. It can only access static data and not non-static data. It can call other static methods and can be accessed by the class name. It cannot refer to \"this\" or \"super\". Static methods are methods that can be called within a program without creating an object of the class"
   ]
  },
  {
   "cell_type": "code",
   "execution_count": 38,
   "metadata": {
    "vscode": {
     "languageId": "java"
    }
   },
   "outputs": [
    {
     "name": "stdout",
     "output_type": "stream",
     "text": [
      "5\n"
     ]
    }
   ],
   "source": [
    "public class Main{\n",
    "// static method\n",
    "public static int getTotal(int a, int b) {\n",
    "    return a + b;\n",
    "  }\n",
    "  \n",
    "  public static void main(String[] args) {\n",
    "    int x = 3;\n",
    "    int y = 2;\n",
    "    System.out.println(getTotal(x,y)); // Prints: 5\n",
    "  }\n",
    "}\n",
    "Main.main(null);"
   ]
  },
  {
   "cell_type": "code",
   "execution_count": 39,
   "metadata": {
    "vscode": {
     "languageId": "java"
    }
   },
   "outputs": [
    {
     "name": "stdout",
     "output_type": "stream",
     "text": [
      "Value of a = 0\n",
      "Value of b = 6\n",
      "Value of a = 0\n",
      "Value of b = 7\n",
      "Value of a = 0\n",
      "Value of b = 8\n"
     ]
    }
   ],
   "source": [
    "public class Demo{\n",
    "    public static void main(String args[]){\n",
    "      Student s1 = new Student();\n",
    "      s1.showData();\n",
    "      Student s2 = new Student();\n",
    "      s2.showData();\n",
    "      Student.b++;\n",
    "      s1.showData();\n",
    "   }\n",
    " }\n",
    " \n",
    " class Student {\n",
    " int a; //initialized to zero\n",
    " static int b; //initialized to zero only when class is loaded not for each object created.\n",
    " \n",
    "   Student(){\n",
    "    //Constructor incrementing static variable b\n",
    "    b++;\n",
    "   }\n",
    " \n",
    "    public void showData(){\n",
    "       System.out.println(\"Value of a = \"+a);\n",
    "       System.out.println(\"Value of b = \"+b);\n",
    "    }\n",
    " //public static void increment(){\n",
    " //a++;\n",
    " //}\n",
    " \n",
    " }\n",
    " Demo.main(null);"
   ]
  },
  {
   "cell_type": "markdown",
   "metadata": {},
   "source": [
    "### this Keyword\n",
    "this refers to the current object in a method or constructor. it refers to the object whose method or constructor is being called. "
   ]
  },
  {
   "cell_type": "markdown",
   "metadata": {},
   "source": [
    "### main method, tester methods (This relates to Unit 5: Writing Classes)\n",
    "The main() method is the starting point for JVM to start executiton of a Java Program. This syntax for it is public static void main(String args[])\n",
    "\n"
   ]
  },
  {
   "cell_type": "code",
   "execution_count": 30,
   "metadata": {
    "vscode": {
     "languageId": "java"
    }
   },
   "outputs": [
    {
     "name": "stdout",
     "output_type": "stream",
     "text": [
      "Hello world!"
     ]
    }
   ],
   "source": [
    "public class Demo {\n",
    "    public static void main(String args[]){\n",
    "        System.out.print(\"Hello world!\");\n",
    "    }\n",
    "}\n",
    "Demo.main(null);"
   ]
  },
  {
   "cell_type": "markdown",
   "metadata": {},
   "source": [
    "### Subclass constructor, super Keyword (This relates to Unit 5: Writing Classes)\n",
    "Subclass inherits all the members which include fields, methods, and nested classes from its superclasss. constructors are not inheritted by the subclass. inheritance helps you create a new class out of a class that already exists. Subclasses have their own code of their own that are initialized.The invocation  of a super class constructor must be the first line of the subclass constructuor\n",
    "\n",
    "``` java\n",
    "public class Subclass extends Superclass {\n",
    "    public static void main(String args[]){\n",
    "        super();\n",
    "    }\n",
    "}\n",
    "```"
   ]
  },
  {
   "cell_type": "markdown",
   "metadata": {},
   "source": [
    "### Overriding a method, same signature of a method\n",
    "Overriding is when the child class has a method that is present in the parent class. The child class must have a different implementation of the method that is already present in the parent class. depending on which method is called the result is different based on the overriden method"
   ]
  },
  {
   "cell_type": "code",
   "execution_count": 33,
   "metadata": {
    "vscode": {
     "languageId": "java"
    }
   },
   "outputs": [
    {
     "name": "stdout",
     "output_type": "stream",
     "text": [
      "You are an adult!\n",
      "You are a child!\n"
     ]
    }
   ],
   "source": [
    "public class Adult{\n",
    "    public void knowAge(){\n",
    "        System.out.println(\"You are an adult!\");\n",
    "    }\n",
    "}\n",
    "public class Child extends Adult{\n",
    "    public void knowAge(){\n",
    "        System.out.println(\"You are a child!\");\n",
    "    }\n",
    "}\n",
    "public class Main{\n",
    "    public static void main(String args[]){\n",
    "        Adult person = new Adult();\n",
    "        person.knowAge();\n",
    "        Child kid = new Child();\n",
    "        kid.knowAge();\n",
    "    }\n",
    "}\n",
    "Main.main(null);"
   ]
  },
  {
   "cell_type": "markdown",
   "metadata": {},
   "source": [
    "### Standard methods: toString(), equals(), hashCode()\n",
    "\n",
    "toString(): returns a string representing the object. converts an object to a primitive value\n",
    "\n",
    "equals(): compares two strings and objects and returns true if the strings are equals and false if not\n",
    "\n",
    "hashCode(): returns an integer value generated by a hasing algorithm. it finds the hash values of given input object and returns a value that represents the hash value. hash values are used throughout code \n",
    "\n",
    "\n"
   ]
  },
  {
   "cell_type": "markdown",
   "metadata": {},
   "source": [
    "### Polymorphism: any of overloading, overriding, late binding\n",
    "Polymorphism allows you to have one interface and many implementations. \n",
    "overloading - multiple functions with tehsame name but different parameters (either changing the number of arguments or changing the data type)\n"
   ]
  },
  {
   "cell_type": "code",
   "execution_count": 34,
   "metadata": {
    "vscode": {
     "languageId": "java"
    }
   },
   "outputs": [
    {
     "name": "stdout",
     "output_type": "stream",
     "text": [
      "8\n",
      "34.65\n"
     ]
    }
   ],
   "source": [
    "// Java Program for Method overloading\n",
    "// By using Different Types of Arguments \n",
    " \n",
    "// Class 1\n",
    "// Helper class\n",
    "class Helper {\n",
    " \n",
    "    // Method with 2 integer parameters\n",
    "    static int Multiply(int a, int b)\n",
    "    {\n",
    " \n",
    "        // Returns product of integer numbers\n",
    "        return a * b;\n",
    "    }\n",
    " \n",
    "    // Method 2\n",
    "    // With same name but with 2 double parameters\n",
    "    static double Multiply(double a, double b)\n",
    "    {\n",
    " \n",
    "        // Returns product of double numbers\n",
    "        return a * b;\n",
    "    }\n",
    "}\n",
    " \n",
    "// Class 2\n",
    "// Main class\n",
    "class GFG {\n",
    " \n",
    "    // Main driver method\n",
    "    public static void main(String[] args)\n",
    "    {\n",
    " \n",
    "        // Calling method by passing\n",
    "        // input as in arguments\n",
    "        System.out.println(Helper.Multiply(2, 4));\n",
    "        System.out.println(Helper.Multiply(5.5, 6.3));\n",
    "    }\n",
    "}\n",
    "GFG.main(null);"
   ]
  }
 ],
 "metadata": {
  "kernelspec": {
   "display_name": "Java",
   "language": "java",
   "name": "java"
  },
  "language_info": {
   "codemirror_mode": "java",
   "file_extension": ".jshell",
   "mimetype": "text/x-java-source",
   "name": "Java",
   "pygments_lexer": "java",
   "version": "11.0.16+8-post-Ubuntu-0ubuntu120.04"
  },
  "orig_nbformat": 4
 },
 "nbformat": 4,
 "nbformat_minor": 2
}
